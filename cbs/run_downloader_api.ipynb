{
  "cells": [
    {
      "cell_type": "code",
      "execution_count": null,
      "metadata": {
        "collapsed": false
      },
      "outputs": [],
      "source": [
        "%matplotlib inline"
      ]
    },
    {
      "cell_type": "markdown",
      "metadata": {},
      "source": [
        "\nHow to download pre-trained models and corpora\n==============================================\n\nDemonstrates simple and quick access to common corpora, models, and other data.\n"
      ]
    },
    {
      "cell_type": "code",
      "execution_count": 1,
      "metadata": {
        "collapsed": false
      },
      "outputs": [],
      "source": [
        "import logging\nlogging.basicConfig(format='%(asctime)s : %(levelname)s : %(message)s', level=logging.INFO)"
      ]
    },
    {
      "cell_type": "code",
      "execution_count": 2,
      "metadata": {
        "collapsed": false
      },
      "outputs": [],
      "source": [
        "import gensim.downloader as api\n",
        "from gensim import utils \n"
      ]
    },
    {
      "cell_type": "markdown",
      "metadata": {},
      "source": [
        "Now, lets download the text8 corpus and load it to memory (automatically)\n\n\n"
      ]
    },
    {
      "cell_type": "code",
      "execution_count": 4,
      "metadata": {
        "collapsed": false
      },
      "outputs": [],
      "source": [
        "corpus = api.load('text8')"
      ]
    },
    {
      "cell_type": "markdown",
      "metadata": {},
      "source": [
        "One of Gensim's features is simple and easy access to some common data.\nThe `gensim-data <https://github.com/RaRe-Technologies/gensim-data>`_ project stores a variety of corpora, models and other data.\nGensim has a :py:mod:`gensim.downloader` module for programmatically accessing this data.\nThe module leverages a local cache that ensures data is downloaded at most once.\n\nThis tutorial:\n\n* Retrieves the text8 corpus, unless it is already on your local machine\n* Trains a Word2Vec model from the corpus (see `sphx_glr_auto_examples_tutorials_run_doc2vec_lee.py` for a detailed tutorial)\n* Leverages the model to calculate word similarity\n* Demonstrates using the API to load other models and corpora\n\nLet's start by importing the api module.\n\n\n"
      ]
    },
    {
      "cell_type": "markdown",
      "metadata": {},
      "source": [
        "In this case, corpus is an iterable.\nIf you look under the covers, it has the following definition:\n\n"
      ]
    },
    {
      "cell_type": "code",
      "execution_count": 5,
      "metadata": {
        "collapsed": false,
        "tags": []
      },
      "outputs": [
        {
          "output_type": "stream",
          "name": "stdout",
          "text": "class Dataset(object):\n    def __init__(self, fn):\n        self.fn = fn\n\n    def __iter__(self):\n        corpus = Text8Corpus(self.fn)\n        for doc in corpus:\n            yield doc\n\n"
        }
      ],
      "source": [
        "import inspect\nprint(inspect.getsource(corpus.__class__))"
      ]
    },
    {
      "cell_type": "markdown",
      "metadata": {},
      "source": [
        "For more details, look inside the file that defines the Dataset class for your particular resource.\n\n\n"
      ]
    },
    {
      "cell_type": "code",
      "execution_count": 6,
      "metadata": {
        "collapsed": false,
        "tags": []
      },
      "outputs": [
        {
          "output_type": "stream",
          "name": "stdout",
          "text": "C:\\Users\\ahmed/gensim-data\\text8\\__init__.py\n"
        }
      ],
      "source": [
        "print(inspect.getfile(corpus.__class__))"
      ]
    },
    {
      "cell_type": "markdown",
      "metadata": {},
      "source": [
        "As the corpus has been downloaded and loaded, let's create a word2vec model of our corpus.\n\n\n"
      ]
    },
    {
      "cell_type": "code",
      "execution_count": 7,
      "metadata": {
        "collapsed": false,
        "tags": []
      },
      "outputs": [
        {
          "output_type": "stream",
          "name": "stderr",
          "text": "2020-08-02 13:54:04,195 : INFO : collecting all words and their counts\n2020-08-02 13:54:04,197 : INFO : PROGRESS: at sentence #0, processed 0 words, keeping 0 word types\n2020-08-02 13:54:09,235 : INFO : collected 253854 word types from a corpus of 17005207 raw words and 1701 sentences\n2020-08-02 13:54:09,237 : INFO : Loading a fresh vocabulary\n2020-08-02 13:54:09,564 : INFO : effective_min_count=5 retains 71290 unique words (28% of original 253854, drops 182564)\n2020-08-02 13:54:09,565 : INFO : effective_min_count=5 leaves 16718844 word corpus (98% of original 17005207, drops 286363)\n2020-08-02 13:54:10,045 : INFO : deleting the raw counts dictionary of 253854 items\n2020-08-02 13:54:10,052 : INFO : sample=0.001 downsamples 38 most-common words\n2020-08-02 13:54:10,053 : INFO : downsampling leaves estimated 12506280 word corpus (74.8% of prior 16718844)\n2020-08-02 13:54:10,271 : INFO : estimated required memory for 71290 words and 100 dimensions: 92677000 bytes\n2020-08-02 13:54:10,272 : INFO : resetting layer weights\n2020-08-02 13:54:24,618 : INFO : training model with 3 workers on 71290 vocabulary and 100 features, using sg=0 hs=0 sample=0.001 negative=5 window=5\n2020-08-02 13:54:25,644 : INFO : EPOCH 1 - PROGRESS: at 10.88% examples, 1341618 words/s, in_qsize 0, out_qsize 0\n2020-08-02 13:54:26,646 : INFO : EPOCH 1 - PROGRESS: at 22.57% examples, 1400524 words/s, in_qsize 0, out_qsize 0\n2020-08-02 13:54:27,655 : INFO : EPOCH 1 - PROGRESS: at 33.86% examples, 1405691 words/s, in_qsize 0, out_qsize 0\n2020-08-02 13:54:28,657 : INFO : EPOCH 1 - PROGRESS: at 45.33% examples, 1413771 words/s, in_qsize 1, out_qsize 0\n2020-08-02 13:54:29,661 : INFO : EPOCH 1 - PROGRESS: at 56.85% examples, 1419565 words/s, in_qsize 1, out_qsize 0\n2020-08-02 13:54:30,662 : INFO : EPOCH 1 - PROGRESS: at 68.31% examples, 1422411 words/s, in_qsize 1, out_qsize 0\n2020-08-02 13:54:31,664 : INFO : EPOCH 1 - PROGRESS: at 79.89% examples, 1423605 words/s, in_qsize 0, out_qsize 0\n2020-08-02 13:54:32,667 : INFO : EPOCH 1 - PROGRESS: at 91.18% examples, 1421699 words/s, in_qsize 1, out_qsize 0\n2020-08-02 13:54:33,427 : INFO : worker thread finished; awaiting finish of 2 more threads\n2020-08-02 13:54:33,429 : INFO : worker thread finished; awaiting finish of 1 more threads\n2020-08-02 13:54:33,432 : INFO : worker thread finished; awaiting finish of 0 more threads\n2020-08-02 13:54:33,433 : INFO : EPOCH - 1 : training on 17005207 raw words (12508328 effective words) took 8.8s, 1422273 effective words/s\n2020-08-02 13:54:34,435 : INFO : EPOCH 2 - PROGRESS: at 11.46% examples, 1421660 words/s, in_qsize 0, out_qsize 0\n2020-08-02 13:54:35,442 : INFO : EPOCH 2 - PROGRESS: at 22.99% examples, 1427943 words/s, in_qsize 1, out_qsize 0\n2020-08-02 13:54:36,442 : INFO : EPOCH 2 - PROGRESS: at 34.27% examples, 1427894 words/s, in_qsize 0, out_qsize 0\n2020-08-02 13:54:37,447 : INFO : EPOCH 2 - PROGRESS: at 45.62% examples, 1425780 words/s, in_qsize 0, out_qsize 0\n2020-08-02 13:54:38,448 : INFO : EPOCH 2 - PROGRESS: at 56.85% examples, 1422284 words/s, in_qsize 0, out_qsize 0\n2020-08-02 13:54:39,454 : INFO : EPOCH 2 - PROGRESS: at 67.61% examples, 1408807 words/s, in_qsize 0, out_qsize 0\n2020-08-02 13:54:40,457 : INFO : EPOCH 2 - PROGRESS: at 78.37% examples, 1397281 words/s, in_qsize 0, out_qsize 0\n2020-08-02 13:54:41,463 : INFO : EPOCH 2 - PROGRESS: at 89.83% examples, 1400820 words/s, in_qsize 0, out_qsize 0\n2020-08-02 13:54:42,359 : INFO : worker thread finished; awaiting finish of 2 more threads\n2020-08-02 13:54:42,362 : INFO : worker thread finished; awaiting finish of 1 more threads\n2020-08-02 13:54:42,364 : INFO : worker thread finished; awaiting finish of 0 more threads\n2020-08-02 13:54:42,364 : INFO : EPOCH - 2 : training on 17005207 raw words (12506772 effective words) took 8.9s, 1400609 effective words/s\n2020-08-02 13:54:43,370 : INFO : EPOCH 3 - PROGRESS: at 11.35% examples, 1403212 words/s, in_qsize 1, out_qsize 0\n2020-08-02 13:54:44,370 : INFO : EPOCH 3 - PROGRESS: at 22.99% examples, 1429796 words/s, in_qsize 2, out_qsize 0\n2020-08-02 13:54:45,376 : INFO : EPOCH 3 - PROGRESS: at 34.51% examples, 1436664 words/s, in_qsize 4, out_qsize 0\n2020-08-02 13:54:46,379 : INFO : EPOCH 3 - PROGRESS: at 46.09% examples, 1439846 words/s, in_qsize 1, out_qsize 0\n2020-08-02 13:54:47,379 : INFO : EPOCH 3 - PROGRESS: at 57.50% examples, 1438221 words/s, in_qsize 0, out_qsize 0\n2020-08-02 13:54:48,382 : INFO : EPOCH 3 - PROGRESS: at 68.78% examples, 1433951 words/s, in_qsize 1, out_qsize 0\n2020-08-02 13:54:49,383 : INFO : EPOCH 3 - PROGRESS: at 80.31% examples, 1432589 words/s, in_qsize 0, out_qsize 0\n2020-08-02 13:54:50,386 : INFO : EPOCH 3 - PROGRESS: at 91.95% examples, 1434625 words/s, in_qsize 1, out_qsize 0\n2020-08-02 13:54:51,074 : INFO : worker thread finished; awaiting finish of 2 more threads\n2020-08-02 13:54:51,077 : INFO : worker thread finished; awaiting finish of 1 more threads\n2020-08-02 13:54:51,080 : INFO : worker thread finished; awaiting finish of 0 more threads\n2020-08-02 13:54:51,081 : INFO : EPOCH - 3 : training on 17005207 raw words (12505788 effective words) took 8.7s, 1434980 effective words/s\n2020-08-02 13:54:52,087 : INFO : EPOCH 4 - PROGRESS: at 11.46% examples, 1417686 words/s, in_qsize 1, out_qsize 1\n2020-08-02 13:54:53,092 : INFO : EPOCH 4 - PROGRESS: at 22.81% examples, 1415360 words/s, in_qsize 0, out_qsize 0\n2020-08-02 13:54:54,096 : INFO : EPOCH 4 - PROGRESS: at 34.27% examples, 1425557 words/s, in_qsize 1, out_qsize 0\n2020-08-02 13:54:55,098 : INFO : EPOCH 4 - PROGRESS: at 45.68% examples, 1426714 words/s, in_qsize 0, out_qsize 0\n2020-08-02 13:54:56,099 : INFO : EPOCH 4 - PROGRESS: at 57.08% examples, 1427329 words/s, in_qsize 0, out_qsize 0\n2020-08-02 13:54:57,106 : INFO : EPOCH 4 - PROGRESS: at 68.43% examples, 1424902 words/s, in_qsize 2, out_qsize 0\n2020-08-02 13:54:58,109 : INFO : EPOCH 4 - PROGRESS: at 79.72% examples, 1420431 words/s, in_qsize 0, out_qsize 0\n2020-08-02 13:54:59,112 : INFO : EPOCH 4 - PROGRESS: at 91.18% examples, 1421376 words/s, in_qsize 0, out_qsize 0\n2020-08-02 13:54:59,871 : INFO : worker thread finished; awaiting finish of 2 more threads\n2020-08-02 13:54:59,873 : INFO : worker thread finished; awaiting finish of 1 more threads\n2020-08-02 13:54:59,875 : INFO : worker thread finished; awaiting finish of 0 more threads\n2020-08-02 13:54:59,876 : INFO : EPOCH - 4 : training on 17005207 raw words (12505202 effective words) took 8.8s, 1422220 effective words/s\n2020-08-02 13:55:00,884 : INFO : EPOCH 5 - PROGRESS: at 11.64% examples, 1436134 words/s, in_qsize 1, out_qsize 0\n2020-08-02 13:55:01,885 : INFO : EPOCH 5 - PROGRESS: at 23.28% examples, 1445797 words/s, in_qsize 1, out_qsize 0\n2020-08-02 13:55:02,886 : INFO : EPOCH 5 - PROGRESS: at 34.57% examples, 1439549 words/s, in_qsize 0, out_qsize 0\n2020-08-02 13:55:03,889 : INFO : EPOCH 5 - PROGRESS: at 46.15% examples, 1442105 words/s, in_qsize 0, out_qsize 0\n2020-08-02 13:55:04,900 : INFO : EPOCH 5 - PROGRESS: at 57.67% examples, 1440370 words/s, in_qsize 1, out_qsize 0\n2020-08-02 13:55:05,904 : INFO : EPOCH 5 - PROGRESS: at 69.14% examples, 1438958 words/s, in_qsize 1, out_qsize 0\n2020-08-02 13:55:06,907 : INFO : EPOCH 5 - PROGRESS: at 80.72% examples, 1437563 words/s, in_qsize 0, out_qsize 0\n2020-08-02 13:55:07,908 : INFO : EPOCH 5 - PROGRESS: at 91.65% examples, 1428172 words/s, in_qsize 0, out_qsize 0\n2020-08-02 13:55:08,661 : INFO : worker thread finished; awaiting finish of 2 more threads\n2020-08-02 13:55:08,664 : INFO : worker thread finished; awaiting finish of 1 more threads\n2020-08-02 13:55:08,666 : INFO : worker thread finished; awaiting finish of 0 more threads\n2020-08-02 13:55:08,667 : INFO : EPOCH - 5 : training on 17005207 raw words (12504458 effective words) took 8.8s, 1422820 effective words/s\n2020-08-02 13:55:08,668 : INFO : training on a 85026035 raw words (62530548 effective words) took 44.0s, 1419586 effective words/s\n"
        }
      ],
      "source": [
        "from gensim.models.word2vec import Word2Vec\nmodel = Word2Vec(corpus)"
      ]
    },
    {
      "cell_type": "markdown",
      "metadata": {},
      "source": [
        "Now that we have our word2vec model, let's find words that are similar to 'tree'\n\n\n"
      ]
    },
    {
      "cell_type": "code",
      "execution_count": 15,
      "metadata": {
        "collapsed": false,
        "tags": []
      },
      "outputs": [
        {
          "output_type": "stream",
          "name": "stdout",
          "text": "[('princess', 0.7737270593643188), ('prince', 0.7444556951522827), ('king', 0.7365189790725708), ('elizabeth', 0.7301608324050903), ('mary', 0.672942042350769), ('consort', 0.6638047099113464), ('crown', 0.6610764265060425), ('regent', 0.6133019924163818), ('duchess', 0.6085258722305298), ('victoria', 0.604053795337677)]\n"
        }
      ],
      "source": [
        "print(model.most_similar(\"queen\"))"
      ]
    },
    {
      "cell_type": "markdown",
      "metadata": {},
      "source": [
        "You can use the API to download many corpora and models. You can get the list of all the models and corpora that are provided, by using the code below:\n\n\n"
      ]
    },
    {
      "cell_type": "code",
      "execution_count": 17,
      "metadata": {
        "collapsed": false,
        "tags": [
          "outputPrepend"
        ]
      },
      "outputs": [
        {
          "output_type": "stream",
          "name": "stdout",
          "text": "it__.py\",\n            \"license\": \"https://dumps.wikimedia.org/legal.html\",\n            \"fields\": {\n                \"section_texts\": \"list of body of sections\",\n                \"section_titles\": \"list of titles of sections\",\n                \"title\": \"Title of wiki article\"\n            },\n            \"description\": \"Extracted Wikipedia dump from October 2017. Produced by `python -m gensim.scripts.segment_wiki -f enwiki-20171001-pages-articles.xml.bz2 -o wiki-en.gz`\",\n            \"checksum-0\": \"a7d7d7fd41ea7e2d7fa32ec1bb640d71\",\n            \"checksum-1\": \"b2683e3356ffbca3b6c2dca6e9801f9f\",\n            \"checksum-2\": \"c5cde2a9ae77b3c4ebce804f6df542c2\",\n            \"checksum-3\": \"00b71144ed5e3aeeb885de84f7452b81\",\n            \"file_name\": \"wiki-english-20171001.gz\",\n            \"read_more\": [\n                \"https://dumps.wikimedia.org/enwiki/20171001/\"\n            ],\n            \"parts\": 4\n        },\n        \"text8\": {\n            \"num_records\": 1701,\n            \"record_format\": \"list of str (tokens)\",\n            \"file_size\": 33182058,\n            \"reader_code\": \"https://github.com/RaRe-Technologies/gensim-data/releases/download/text8/__init__.py\",\n            \"license\": \"not found\",\n            \"description\": \"First 100,000,000 bytes of plain text from Wikipedia. Used for testing purposes; see wiki-english-* for proper full Wikipedia datasets.\",\n            \"checksum\": \"68799af40b6bda07dfa47a32612e5364\",\n            \"file_name\": \"text8.gz\",\n            \"read_more\": [\n                \"http://mattmahoney.net/dc/textdata.html\"\n            ],\n            \"parts\": 1\n        },\n        \"fake-news\": {\n            \"num_records\": 12999,\n            \"record_format\": \"dict\",\n            \"file_size\": 20102776,\n            \"reader_code\": \"https://github.com/RaRe-Technologies/gensim-data/releases/download/fake-news/__init__.py\",\n            \"license\": \"https://creativecommons.org/publicdomain/zero/1.0/\",\n            \"fields\": {\n                \"crawled\": \"date the story was archived\",\n                \"ord_in_thread\": \"\",\n                \"published\": \"date published\",\n                \"participants_count\": \"number of participants\",\n                \"shares\": \"number of Facebook shares\",\n                \"replies_count\": \"number of replies\",\n                \"main_img_url\": \"image from story\",\n                \"spam_score\": \"data from webhose.io\",\n                \"uuid\": \"unique identifier\",\n                \"language\": \"data from webhose.io\",\n                \"title\": \"title of story\",\n                \"country\": \"data from webhose.io\",\n                \"domain_rank\": \"data from webhose.io\",\n                \"author\": \"author of story\",\n                \"comments\": \"number of Facebook comments\",\n                \"site_url\": \"site URL from BS detector\",\n                \"text\": \"text of story\",\n                \"thread_title\": \"\",\n                \"type\": \"type of website (label from BS detector)\",\n                \"likes\": \"number of Facebook likes\"\n            },\n            \"description\": \"News dataset, contains text and metadata from 244 websites and represents 12,999 posts in total from a specific window of 30 days. The data was pulled using the webhose.io API, and because it's coming from their crawler, not all websites identified by their BS Detector are present in this dataset. Data sources that were missing a label were simply assigned a label of 'bs'. There are (ostensibly) no genuine, reliable, or trustworthy news sources represented in this dataset (so far), so don't trust anything you read.\",\n            \"checksum\": \"5e64e942df13219465927f92dcefd5fe\",\n            \"file_name\": \"fake-news.gz\",\n            \"read_more\": [\n                \"https://www.kaggle.com/mrisdal/fake-news\"\n            ],\n            \"parts\": 1\n        },\n        \"20-newsgroups\": {\n            \"num_records\": 18846,\n            \"record_format\": \"dict\",\n            \"file_size\": 14483581,\n            \"reader_code\": \"https://github.com/RaRe-Technologies/gensim-data/releases/download/20-newsgroups/__init__.py\",\n            \"license\": \"not found\",\n            \"fields\": {\n                \"topic\": \"name of topic (20 variant of possible values)\",\n                \"set\": \"marker of original split (possible values 'train' and 'test')\",\n                \"data\": \"\",\n                \"id\": \"original id inferred from folder name\"\n            },\n            \"description\": \"The notorious collection of approximately 20,000 newsgroup posts, partitioned (nearly) evenly across 20 different newsgroups.\",\n            \"checksum\": \"c92fd4f6640a86d5ba89eaad818a9891\",\n            \"file_name\": \"20-newsgroups.gz\",\n            \"read_more\": [\n                \"http://qwone.com/~jason/20Newsgroups/\"\n            ],\n            \"parts\": 1\n        },\n        \"__testing_matrix-synopsis\": {\n            \"description\": \"[THIS IS ONLY FOR TESTING] Synopsis of the movie matrix.\",\n            \"checksum\": \"1767ac93a089b43899d54944b07d9dc5\",\n            \"file_name\": \"__testing_matrix-synopsis.gz\",\n            \"read_more\": [\n                \"http://www.imdb.com/title/tt0133093/plotsummary?ref_=ttpl_pl_syn#synopsis\"\n            ],\n            \"parts\": 1\n        },\n        \"__testing_multipart-matrix-synopsis\": {\n            \"description\": \"[THIS IS ONLY FOR TESTING] Synopsis of the movie matrix.\",\n            \"checksum-0\": \"c8b0c7d8cf562b1b632c262a173ac338\",\n            \"checksum-1\": \"5ff7fc6818e9a5d9bc1cf12c35ed8b96\",\n            \"checksum-2\": \"966db9d274d125beaac7987202076cba\",\n            \"file_name\": \"__testing_multipart-matrix-synopsis.gz\",\n            \"read_more\": [\n                \"http://www.imdb.com/title/tt0133093/plotsummary?ref_=ttpl_pl_syn#synopsis\"\n            ],\n            \"parts\": 3\n        }\n    },\n    \"models\": {\n        \"fasttext-wiki-news-subwords-300\": {\n            \"num_records\": 999999,\n            \"file_size\": 1005007116,\n            \"base_dataset\": \"Wikipedia 2017, UMBC webbase corpus and statmt.org news dataset (16B tokens)\",\n            \"reader_code\": \"https://github.com/RaRe-Technologies/gensim-data/releases/download/fasttext-wiki-news-subwords-300/__init__.py\",\n            \"license\": \"https://creativecommons.org/licenses/by-sa/3.0/\",\n            \"parameters\": {\n                \"dimension\": 300\n            },\n            \"description\": \"1 million word vectors trained on Wikipedia 2017, UMBC webbase corpus and statmt.org news dataset (16B tokens).\",\n            \"read_more\": [\n                \"https://fasttext.cc/docs/en/english-vectors.html\",\n                \"https://arxiv.org/abs/1712.09405\",\n                \"https://arxiv.org/abs/1607.01759\"\n            ],\n            \"checksum\": \"de2bb3a20c46ce65c9c131e1ad9a77af\",\n            \"file_name\": \"fasttext-wiki-news-subwords-300.gz\",\n            \"parts\": 1\n        },\n        \"conceptnet-numberbatch-17-06-300\": {\n            \"num_records\": 1917247,\n            \"file_size\": 1225497562,\n            \"base_dataset\": \"ConceptNet, word2vec, GloVe, and OpenSubtitles 2016\",\n            \"reader_code\": \"https://github.com/RaRe-Technologies/gensim-data/releases/download/conceptnet-numberbatch-17-06-300/__init__.py\",\n            \"license\": \"https://github.com/commonsense/conceptnet-numberbatch/blob/master/LICENSE.txt\",\n            \"parameters\": {\n                \"dimension\": 300\n            },\n            \"description\": \"ConceptNet Numberbatch consists of state-of-the-art semantic vectors (also known as word embeddings) that can be used directly as a representation of word meanings or as a starting point for further machine learning. ConceptNet Numberbatch is part of the ConceptNet open data project. ConceptNet provides lots of ways to compute with word meanings, one of which is word embeddings. ConceptNet Numberbatch is a snapshot of just the word embeddings. It is built using an ensemble that combines data from ConceptNet, word2vec, GloVe, and OpenSubtitles 2016, using a variation on retrofitting.\",\n            \"read_more\": [\n                \"http://aaai.org/ocs/index.php/AAAI/AAAI17/paper/view/14972\",\n                \"https://github.com/commonsense/conceptnet-numberbatch\",\n                \"http://conceptnet.io/\"\n            ],\n            \"checksum\": \"fd642d457adcd0ea94da0cd21b150847\",\n            \"file_name\": \"conceptnet-numberbatch-17-06-300.gz\",\n            \"parts\": 1\n        },\n        \"word2vec-ruscorpora-300\": {\n            \"num_records\": 184973,\n            \"file_size\": 208427381,\n            \"base_dataset\": \"Russian National Corpus (about 250M words)\",\n            \"reader_code\": \"https://github.com/RaRe-Technologies/gensim-data/releases/download/word2vec-ruscorpora-300/__init__.py\",\n            \"license\": \"https://creativecommons.org/licenses/by/4.0/deed.en\",\n            \"parameters\": {\n                \"dimension\": 300,\n                \"window_size\": 10\n            },\n            \"description\": \"Word2vec Continuous Skipgram vectors trained on full Russian National Corpus (about 250M words). The model contains 185K words.\",\n            \"preprocessing\": \"The corpus was lemmatized and tagged with Universal PoS\",\n            \"read_more\": [\n                \"https://www.academia.edu/24306935/WebVectors_a_Toolkit_for_Building_Web_Interfaces_for_Vector_Semantic_Models\",\n                \"http://rusvectores.org/en/\",\n                \"https://github.com/RaRe-Technologies/gensim-data/issues/3\"\n            ],\n            \"checksum\": \"9bdebdc8ae6d17d20839dd9b5af10bc4\",\n            \"file_name\": \"word2vec-ruscorpora-300.gz\",\n            \"parts\": 1\n        },\n        \"word2vec-google-news-300\": {\n            \"num_records\": 3000000,\n            \"file_size\": 1743563840,\n            \"base_dataset\": \"Google News (about 100 billion words)\",\n            \"reader_code\": \"https://github.com/RaRe-Technologies/gensim-data/releases/download/word2vec-google-news-300/__init__.py\",\n            \"license\": \"not found\",\n            \"parameters\": {\n                \"dimension\": 300\n            },\n            \"description\": \"Pre-trained vectors trained on a part of the Google News dataset (about 100 billion words). The model contains 300-dimensional vectors for 3 million words and phrases. The phrases were obtained using a simple data-driven approach described in 'Distributed Representations of Words and Phrases and their Compositionality' (https://code.google.com/archive/p/word2vec/).\",\n            \"read_more\": [\n                \"https://code.google.com/archive/p/word2vec/\",\n                \"https://arxiv.org/abs/1301.3781\",\n                \"https://arxiv.org/abs/1310.4546\",\n                \"https://www.microsoft.com/en-us/research/publication/linguistic-regularities-in-continuous-space-word-representations/?from=http%3A%2F%2Fresearch.microsoft.com%2Fpubs%2F189726%2Frvecs.pdf\"\n            ],\n            \"checksum\": \"a5e5354d40acb95f9ec66d5977d140ef\",\n            \"file_name\": \"word2vec-google-news-300.gz\",\n            \"parts\": 1\n        },\n        \"glove-wiki-gigaword-50\": {\n            \"num_records\": 400000,\n            \"file_size\": 69182535,\n            \"base_dataset\": \"Wikipedia 2014 + Gigaword 5 (6B tokens, uncased)\",\n            \"reader_code\": \"https://github.com/RaRe-Technologies/gensim-data/releases/download/glove-wiki-gigaword-50/__init__.py\",\n            \"license\": \"http://opendatacommons.org/licenses/pddl/\",\n            \"parameters\": {\n                \"dimension\": 50\n            },\n            \"description\": \"Pre-trained vectors based on Wikipedia 2014 + Gigaword, 5.6B tokens, 400K vocab, uncased (https://nlp.stanford.edu/projects/glove/).\",\n            \"preprocessing\": \"Converted to w2v format with `python -m gensim.scripts.glove2word2vec -i <fname> -o glove-wiki-gigaword-50.txt`.\",\n            \"read_more\": [\n                \"https://nlp.stanford.edu/projects/glove/\",\n                \"https://nlp.stanford.edu/pubs/glove.pdf\"\n            ],\n            \"checksum\": \"c289bc5d7f2f02c6dc9f2f9b67641813\",\n            \"file_name\": \"glove-wiki-gigaword-50.gz\",\n            \"parts\": 1\n        },\n        \"glove-wiki-gigaword-100\": {\n            \"num_records\": 400000,\n            \"file_size\": 134300434,\n            \"base_dataset\": \"Wikipedia 2014 + Gigaword 5 (6B tokens, uncased)\",\n            \"reader_code\": \"https://github.com/RaRe-Technologies/gensim-data/releases/download/glove-wiki-gigaword-100/__init__.py\",\n            \"license\": \"http://opendatacommons.org/licenses/pddl/\",\n            \"parameters\": {\n                \"dimension\": 100\n            },\n            \"description\": \"Pre-trained vectors based on Wikipedia 2014 + Gigaword 5.6B tokens, 400K vocab, uncased (https://nlp.stanford.edu/projects/glove/).\",\n            \"preprocessing\": \"Converted to w2v format with `python -m gensim.scripts.glove2word2vec -i <fname> -o glove-wiki-gigaword-100.txt`.\",\n            \"read_more\": [\n                \"https://nlp.stanford.edu/projects/glove/\",\n                \"https://nlp.stanford.edu/pubs/glove.pdf\"\n            ],\n            \"checksum\": \"40ec481866001177b8cd4cb0df92924f\",\n            \"file_name\": \"glove-wiki-gigaword-100.gz\",\n            \"parts\": 1\n        },\n        \"glove-wiki-gigaword-200\": {\n            \"num_records\": 400000,\n            \"file_size\": 264336934,\n            \"base_dataset\": \"Wikipedia 2014 + Gigaword 5 (6B tokens, uncased)\",\n            \"reader_code\": \"https://github.com/RaRe-Technologies/gensim-data/releases/download/glove-wiki-gigaword-200/__init__.py\",\n            \"license\": \"http://opendatacommons.org/licenses/pddl/\",\n            \"parameters\": {\n                \"dimension\": 200\n            },\n            \"description\": \"Pre-trained vectors based on Wikipedia 2014 + Gigaword, 5.6B tokens, 400K vocab, uncased (https://nlp.stanford.edu/projects/glove/).\",\n            \"preprocessing\": \"Converted to w2v format with `python -m gensim.scripts.glove2word2vec -i <fname> -o glove-wiki-gigaword-200.txt`.\",\n            \"read_more\": [\n                \"https://nlp.stanford.edu/projects/glove/\",\n                \"https://nlp.stanford.edu/pubs/glove.pdf\"\n            ],\n            \"checksum\": \"59652db361b7a87ee73834a6c391dfc1\",\n            \"file_name\": \"glove-wiki-gigaword-200.gz\",\n            \"parts\": 1\n        },\n        \"glove-wiki-gigaword-300\": {\n            \"num_records\": 400000,\n            \"file_size\": 394362229,\n            \"base_dataset\": \"Wikipedia 2014 + Gigaword 5 (6B tokens, uncased)\",\n            \"reader_code\": \"https://github.com/RaRe-Technologies/gensim-data/releases/download/glove-wiki-gigaword-300/__init__.py\",\n            \"license\": \"http://opendatacommons.org/licenses/pddl/\",\n            \"parameters\": {\n                \"dimension\": 300\n            },\n            \"description\": \"Pre-trained vectors based on Wikipedia 2014 + Gigaword, 5.6B tokens, 400K vocab, uncased (https://nlp.stanford.edu/projects/glove/).\",\n            \"preprocessing\": \"Converted to w2v format with `python -m gensim.scripts.glove2word2vec -i <fname> -o glove-wiki-gigaword-300.txt`.\",\n            \"read_more\": [\n                \"https://nlp.stanford.edu/projects/glove/\",\n                \"https://nlp.stanford.edu/pubs/glove.pdf\"\n            ],\n            \"checksum\": \"29e9329ac2241937d55b852e8284e89b\",\n            \"file_name\": \"glove-wiki-gigaword-300.gz\",\n            \"parts\": 1\n        },\n        \"glove-twitter-25\": {\n            \"num_records\": 1193514,\n            \"file_size\": 109885004,\n            \"base_dataset\": \"Twitter (2B tweets, 27B tokens, 1.2M vocab, uncased)\",\n            \"reader_code\": \"https://github.com/RaRe-Technologies/gensim-data/releases/download/glove-twitter-25/__init__.py\",\n            \"license\": \"http://opendatacommons.org/licenses/pddl/\",\n            \"parameters\": {\n                \"dimension\": 25\n            },\n            \"description\": \"Pre-trained vectors based on 2B tweets, 27B tokens, 1.2M vocab, uncased (https://nlp.stanford.edu/projects/glove/).\",\n            \"preprocessing\": \"Converted to w2v format with `python -m gensim.scripts.glove2word2vec -i <fname> -o glove-twitter-25.txt`.\",\n            \"read_more\": [\n                \"https://nlp.stanford.edu/projects/glove/\",\n                \"https://nlp.stanford.edu/pubs/glove.pdf\"\n            ],\n            \"checksum\": \"50db0211d7e7a2dcd362c6b774762793\",\n            \"file_name\": \"glove-twitter-25.gz\",\n            \"parts\": 1\n        },\n        \"glove-twitter-50\": {\n            \"num_records\": 1193514,\n            \"file_size\": 209216938,\n            \"base_dataset\": \"Twitter (2B tweets, 27B tokens, 1.2M vocab, uncased)\",\n            \"reader_code\": \"https://github.com/RaRe-Technologies/gensim-data/releases/download/glove-twitter-50/__init__.py\",\n            \"license\": \"http://opendatacommons.org/licenses/pddl/\",\n            \"parameters\": {\n                \"dimension\": 50\n            },\n            \"description\": \"Pre-trained vectors based on 2B tweets, 27B tokens, 1.2M vocab, uncased (https://nlp.stanford.edu/projects/glove/)\",\n            \"preprocessing\": \"Converted to w2v format with `python -m gensim.scripts.glove2word2vec -i <fname> -o glove-twitter-50.txt`.\",\n            \"read_more\": [\n                \"https://nlp.stanford.edu/projects/glove/\",\n                \"https://nlp.stanford.edu/pubs/glove.pdf\"\n            ],\n            \"checksum\": \"c168f18641f8c8a00fe30984c4799b2b\",\n            \"file_name\": \"glove-twitter-50.gz\",\n            \"parts\": 1\n        },\n        \"glove-twitter-100\": {\n            \"num_records\": 1193514,\n            \"file_size\": 405932991,\n            \"base_dataset\": \"Twitter (2B tweets, 27B tokens, 1.2M vocab, uncased)\",\n            \"reader_code\": \"https://github.com/RaRe-Technologies/gensim-data/releases/download/glove-twitter-100/__init__.py\",\n            \"license\": \"http://opendatacommons.org/licenses/pddl/\",\n            \"parameters\": {\n                \"dimension\": 100\n            },\n            \"description\": \"Pre-trained vectors based on  2B tweets, 27B tokens, 1.2M vocab, uncased (https://nlp.stanford.edu/projects/glove/)\",\n            \"preprocessing\": \"Converted to w2v format with `python -m gensim.scripts.glove2word2vec -i <fname> -o glove-twitter-100.txt`.\",\n            \"read_more\": [\n                \"https://nlp.stanford.edu/projects/glove/\",\n                \"https://nlp.stanford.edu/pubs/glove.pdf\"\n            ],\n            \"checksum\": \"b04f7bed38756d64cf55b58ce7e97b15\",\n            \"file_name\": \"glove-twitter-100.gz\",\n            \"parts\": 1\n        },\n        \"glove-twitter-200\": {\n            \"num_records\": 1193514,\n            \"file_size\": 795373100,\n            \"base_dataset\": \"Twitter (2B tweets, 27B tokens, 1.2M vocab, uncased)\",\n            \"reader_code\": \"https://github.com/RaRe-Technologies/gensim-data/releases/download/glove-twitter-200/__init__.py\",\n            \"license\": \"http://opendatacommons.org/licenses/pddl/\",\n            \"parameters\": {\n                \"dimension\": 200\n            },\n            \"description\": \"Pre-trained vectors based on 2B tweets, 27B tokens, 1.2M vocab, uncased (https://nlp.stanford.edu/projects/glove/).\",\n            \"preprocessing\": \"Converted to w2v format with `python -m gensim.scripts.glove2word2vec -i <fname> -o glove-twitter-200.txt`.\",\n            \"read_more\": [\n                \"https://nlp.stanford.edu/projects/glove/\",\n                \"https://nlp.stanford.edu/pubs/glove.pdf\"\n            ],\n            \"checksum\": \"e52e8392d1860b95d5308a525817d8f9\",\n            \"file_name\": \"glove-twitter-200.gz\",\n            \"parts\": 1\n        },\n        \"__testing_word2vec-matrix-synopsis\": {\n            \"description\": \"[THIS IS ONLY FOR TESTING] Word vecrors of the movie matrix.\",\n            \"parameters\": {\n                \"dimensions\": 50\n            },\n            \"preprocessing\": \"Converted to w2v using a preprocessed corpus. Converted to w2v format with `python3.5 -m gensim.models.word2vec -train <input_filename> -iter 50 -output <output_filename>`.\",\n            \"read_more\": [],\n            \"checksum\": \"534dcb8b56a360977a269b7bfc62d124\",\n            \"file_name\": \"__testing_word2vec-matrix-synopsis.gz\",\n            \"parts\": 1\n        }\n    }\n}\n"
        }
      ],
      "source": [
        "import json\ninfo = api.info()\nprint(json.dumps(info, indent=4))"
      ]
    },
    {
      "cell_type": "markdown",
      "metadata": {},
      "source": [
        "There are two types of data: corpora and models.\n\n"
      ]
    },
    {
      "cell_type": "code",
      "execution_count": 18,
      "metadata": {
        "collapsed": false,
        "tags": []
      },
      "outputs": [
        {
          "output_type": "stream",
          "name": "stdout",
          "text": "dict_keys(['corpora', 'models'])\n"
        }
      ],
      "source": [
        "print(info.keys())"
      ]
    },
    {
      "cell_type": "markdown",
      "metadata": {},
      "source": [
        "Let's have a look at the available corpora:\n\n"
      ]
    },
    {
      "cell_type": "code",
      "execution_count": 19,
      "metadata": {
        "collapsed": false,
        "tags": []
      },
      "outputs": [
        {
          "output_type": "stream",
          "name": "stdout",
          "text": "20-newsgroups (18846 records): The notorious collection of approximatel...\n__testing_matrix-synopsis (-1 records): [THIS IS ONLY FOR TESTING] Synopsis of t...\n__testing_multipart-matrix-synopsis (-1 records): [THIS IS ONLY FOR TESTING] Synopsis of t...\nfake-news (12999 records): News dataset, contains text and metadata...\npatent-2017 (353197 records): Patent Grant Full Text. Contains the ful...\nquora-duplicate-questions (404290 records): Over 400,000 lines of potential question...\nsemeval-2016-2017-task3-subtaskA-unannotated (189941 records): SemEval 2016 / 2017 Task 3 Subtask A una...\nsemeval-2016-2017-task3-subtaskBC (-1 records): SemEval 2016 / 2017 Task 3 Subtask B and...\ntext8 (1701 records): First 100,000,000 bytes of plain text fr...\nwiki-english-20171001 (4924894 records): Extracted Wikipedia dump from October 20...\n"
        }
      ],
      "source": [
        "for corpus_name, corpus_data in sorted(info['corpora'].items()):\n    print(\n        '%s (%d records): %s' % (\n            corpus_name,\n            corpus_data.get('num_records', -1),\n            corpus_data['description'][:40] + '...',\n        )\n    )"
      ]
    },
    {
      "cell_type": "markdown",
      "metadata": {},
      "source": [
        "... and the same for models:\n\n"
      ]
    },
    {
      "cell_type": "code",
      "execution_count": 20,
      "metadata": {
        "collapsed": false,
        "tags": []
      },
      "outputs": [
        {
          "output_type": "stream",
          "name": "stdout",
          "text": "__testing_word2vec-matrix-synopsis (-1 records): [THIS IS ONLY FOR TESTING] Word vecrors ...\nconceptnet-numberbatch-17-06-300 (1917247 records): ConceptNet Numberbatch consists of state...\nfasttext-wiki-news-subwords-300 (999999 records): 1 million word vectors trained on Wikipe...\nglove-twitter-100 (1193514 records): Pre-trained vectors based on  2B tweets,...\nglove-twitter-200 (1193514 records): Pre-trained vectors based on 2B tweets, ...\nglove-twitter-25 (1193514 records): Pre-trained vectors based on 2B tweets, ...\nglove-twitter-50 (1193514 records): Pre-trained vectors based on 2B tweets, ...\nglove-wiki-gigaword-100 (400000 records): Pre-trained vectors based on Wikipedia 2...\nglove-wiki-gigaword-200 (400000 records): Pre-trained vectors based on Wikipedia 2...\nglove-wiki-gigaword-300 (400000 records): Pre-trained vectors based on Wikipedia 2...\nglove-wiki-gigaword-50 (400000 records): Pre-trained vectors based on Wikipedia 2...\nword2vec-google-news-300 (3000000 records): Pre-trained vectors trained on a part of...\nword2vec-ruscorpora-300 (184973 records): Word2vec Continuous Skipgram vectors tra...\n"
        }
      ],
      "source": [
        "for model_name, model_data in sorted(info['models'].items()):\n    print(\n        '%s (%d records): %s' % (\n            model_name,\n            model_data.get('num_records', -1),\n            model_data['description'][:40] + '...',\n        )\n    )"
      ]
    },
    {
      "cell_type": "markdown",
      "metadata": {},
      "source": [
        "If you want to get detailed information about the model/corpus, use:\n\n\n"
      ]
    },
    {
      "cell_type": "code",
      "execution_count": null,
      "metadata": {
        "collapsed": false
      },
      "outputs": [],
      "source": [
        "fake_news_info = api.info('fake-news')\nprint(json.dumps(fake_news_info, indent=4))"
      ]
    },
    {
      "cell_type": "markdown",
      "metadata": {},
      "source": [
        "Sometimes, you do not want to load the model to memory. You would just want to get the path to the model. For that, use :\n\n\n"
      ]
    },
    {
      "cell_type": "code",
      "execution_count": 21,
      "metadata": {
        "collapsed": false,
        "tags": []
      },
      "outputs": [
        {
          "output_type": "stream",
          "name": "stdout",
          "text": "[==================================================] 100.0% 66.0/66.0MB downloaded\n2020-08-02 14:08:37,421 : INFO : glove-wiki-gigaword-50 downloaded\nC:\\Users\\ahmed/gensim-data\\glove-wiki-gigaword-50\\glove-wiki-gigaword-50.gz\n"
        }
      ],
      "source": [
        "print(api.load('glove-wiki-gigaword-50', return_path=True))"
      ]
    },
    {
      "cell_type": "markdown",
      "metadata": {},
      "source": [
        "If you want to load the model to memory, then:\n\n\n"
      ]
    },
    {
      "cell_type": "code",
      "execution_count": 22,
      "metadata": {
        "collapsed": false,
        "tags": []
      },
      "outputs": [
        {
          "output_type": "stream",
          "name": "stderr",
          "text": "2020-08-02 14:08:57,577 : INFO : loading projection weights from C:\\Users\\ahmed/gensim-data\\glove-wiki-gigaword-50\\glove-wiki-gigaword-50.gz\n2020-08-02 14:09:22,259 : INFO : loaded (400000, 50) matrix from C:\\Users\\ahmed/gensim-data\\glove-wiki-gigaword-50\\glove-wiki-gigaword-50.gz\n2020-08-02 14:09:22,281 : INFO : precomputing L2-norms of word weight vectors\n"
        },
        {
          "output_type": "execute_result",
          "data": {
            "text/plain": "[('plastic', 0.7942505478858948),\n ('metal', 0.770871639251709),\n ('walls', 0.7700636386871338),\n ('marble', 0.7638524174690247),\n ('wood', 0.7624281048774719),\n ('ceramic', 0.7602593302726746),\n ('pieces', 0.7589111924171448),\n ('stained', 0.7528817057609558),\n ('tile', 0.748193621635437),\n ('furniture', 0.746385931968689)]"
          },
          "metadata": {},
          "execution_count": 22
        }
      ],
      "source": [
        "model = api.load(\"glove-wiki-gigaword-50\")\nmodel.most_similar(\"glass\")"
      ]
    },
    {
      "cell_type": "markdown",
      "metadata": {},
      "source": [
        "In corpora, the corpus is never loaded to memory, all corpuses wrapped to special class ``Dataset`` and provide ``__iter__`` method\n\n\n"
      ]
    },
    {
      "cell_type": "code",
      "execution_count": 23,
      "metadata": {},
      "outputs": [
        {
          "output_type": "execute_result",
          "data": {
            "text/plain": "[('berates', 0.6456252932548523),\n ('njinga', 0.6397151947021484),\n ('nafeek', 0.6385630369186401),\n ('horman', 0.62641841173172),\n ('genseric', 0.6253653764724731),\n ('sadeghnia', 0.6160673499107361),\n ('runas', 0.6149552464485168),\n ('befriending', 0.6077734231948853),\n ('flatmate', 0.6053695678710938),\n ('æthelflæd', 0.5924665331840515)]"
          },
          "metadata": {},
          "execution_count": 23
        }
      ],
      "source": [
        "model.most_similar(positive=[\"woman\",\"king\"],negative=\"man\")"
      ]
    },
    {
      "cell_type": "code",
      "execution_count": null,
      "metadata": {},
      "outputs": [],
      "source": []
    },
    {
      "cell_type": "code",
      "execution_count": null,
      "metadata": {},
      "outputs": [],
      "source": []
    },
    {
      "cell_type": "code",
      "execution_count": 36,
      "metadata": {},
      "outputs": [
        {
          "output_type": "error",
          "ename": "AttributeError",
          "evalue": "module 'gensim.models.keyedvectors' has no attribute 'load_word2vec_format'",
          "traceback": [
            "\u001b[1;31m---------------------------------------------------------------------------\u001b[0m",
            "\u001b[1;31mAttributeError\u001b[0m                            Traceback (most recent call last)",
            "\u001b[1;32m<ipython-input-36-e0609a374966>\u001b[0m in \u001b[0;36m<module>\u001b[1;34m\u001b[0m\n\u001b[0;32m      1\u001b[0m \u001b[1;32mfrom\u001b[0m \u001b[0mgensim\u001b[0m\u001b[1;33m.\u001b[0m\u001b[0mmodels\u001b[0m \u001b[1;32mimport\u001b[0m \u001b[0mWord2Vec\u001b[0m\u001b[1;33m\u001b[0m\u001b[1;33m\u001b[0m\u001b[0m\n\u001b[0;32m      2\u001b[0m \u001b[1;32mfrom\u001b[0m \u001b[0mgensim\u001b[0m\u001b[1;33m.\u001b[0m\u001b[0mmodels\u001b[0m \u001b[1;32mimport\u001b[0m \u001b[0mKeyedVectors\u001b[0m\u001b[1;33m\u001b[0m\u001b[1;33m\u001b[0m\u001b[0m\n\u001b[1;32m----> 3\u001b[1;33m \u001b[0mmodel\u001b[0m \u001b[1;33m=\u001b[0m \u001b[0mkeyedvectors\u001b[0m\u001b[1;33m.\u001b[0m\u001b[0mload_word2vec_format\u001b[0m\u001b[1;33m(\u001b[0m\u001b[1;34m'./data/GoogleNews-vectors-negative300.bin.gz'\u001b[0m\u001b[1;33m,\u001b[0m \u001b[0mbinary\u001b[0m\u001b[1;33m=\u001b[0m\u001b[1;32mTrue\u001b[0m\u001b[1;33m)\u001b[0m\u001b[1;33m\u001b[0m\u001b[1;33m\u001b[0m\u001b[0m\n\u001b[0m\u001b[0;32m      4\u001b[0m \u001b[1;33m\u001b[0m\u001b[0m\n",
            "\u001b[1;31mAttributeError\u001b[0m: module 'gensim.models.keyedvectors' has no attribute 'load_word2vec_format'"
          ]
        }
      ],
      "source": [
        "from gensim.models import Word2Vec\n",
        "from gensim.models import KeyedVectors\n",
        "t_model = KeyedVectors.load_word2vec_format('GoogleWord2Vec/GoogleNews-vectors-negative300.bin',binary=True)\n",
        "\n"
      ]
    },
    {
      "cell_type": "code",
      "execution_count": null,
      "metadata": {},
      "outputs": [],
      "source": []
    }
  ],
  "metadata": {
    "kernelspec": {
      "display_name": "Python 3.8.2 64-bit",
      "language": "python",
      "name": "python_defaultSpec_1596368927533"
    },
    "language_info": {
      "codemirror_mode": {
        "name": "ipython",
        "version": 3
      },
      "file_extension": ".py",
      "mimetype": "text/x-python",
      "name": "python",
      "nbconvert_exporter": "python",
      "pygments_lexer": "ipython3",
      "version": "3.7.1"
    }
  },
  "nbformat": 4,
  "nbformat_minor": 0
}