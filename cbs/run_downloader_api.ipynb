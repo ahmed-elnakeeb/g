{
  "cells": [
    {
      "cell_type": "code",
      "execution_count": 22,
      "metadata": {
        "collapsed": false
      },
      "outputs": [],
      "source": [
        "%matplotlib inline"
      ]
    },
    {
      "cell_type": "markdown",
      "metadata": {},
      "source": [
        "\nHow to download pre-trained models and corpora\n==============================================\n\nDemonstrates simple and quick access to common corpora, models, and other data.\n"
      ]
    },
    {
      "cell_type": "code",
      "execution_count": 23,
      "metadata": {
        "collapsed": false
      },
      "outputs": [],
      "source": [
        "import logging\nlogging.basicConfig(format='%(asctime)s : %(levelname)s : %(message)s', level=logging.INFO)"
      ]
    },
    {
      "cell_type": "code",
      "execution_count": 24,
      "metadata": {
        "collapsed": false
      },
      "outputs": [],
      "source": [
        "import gensim.downloader as api\n",
        "from gensim import utils \n"
      ]
    },
    {
      "cell_type": "markdown",
      "metadata": {},
      "source": [
        "Now, lets download the text8 corpus and load it to memory (automatically)\n\n\n"
      ]
    },
    {
      "cell_type": "code",
      "execution_count": 28,
      "metadata": {
        "collapsed": false
      },
      "outputs": [],
      "source": [
        "corpus = api.load('text8')"
      ]
    },
    {
      "cell_type": "markdown",
      "metadata": {},
      "source": [
        "One of Gensim's features is simple and easy access to some common data.\n",
        "The `gensim-data <https://github.com/RaRe-Technologies/gensim-data>`_ project stores a variety of corpora, models and other data.\n",
        "Gensim has a :py:mod:`gensim.downloader` module for programmatically accessing this data.\n",
        "The module leverages a local cache that ensures data is downloaded at most once.\n",
        "\n",
        "This tutorial:\n",
        "\n",
        "* Retrieves the text8 corpus, unless it is already on your local machine\n",
        "* Trains a Word2Vec model from the corpus (see `sphx_glr_auto_examples_tutorials_run_doc2vec_lee.py` for a detailed tutorial)\n",
        "* Leverages the model to calculate word similarity\n",
        "* Demonstrates using the API to load other models and corpora\n",
        "\n",
        "Let's start by importing the api module.\n",
        "\n",
        "\n"
      ]
    },
    {
      "cell_type": "markdown",
      "metadata": {},
      "source": [
        "In this case, corpus is an iterable.\nIf you look under the covers, it has the following definition:\n\n"
      ]
    },
    {
      "cell_type": "code",
      "execution_count": 30,
      "metadata": {
        "collapsed": false,
        "tags": []
      },
      "outputs": [
        {
          "output_type": "stream",
          "name": "stdout",
          "text": "class Dataset(object):\n    def __init__(self, fn):\n        self.fn = fn\n\n    def __iter__(self):\n        corpus = Text8Corpus(self.fn)\n        for doc in corpus:\n            yield doc\n\n"
        }
      ],
      "source": [
        "import inspect\nprint(inspect.getsource(corpus.__class__))"
      ]
    },
    {
      "cell_type": "markdown",
      "metadata": {},
      "source": [
        "For more details, look inside the file that defines the Dataset class for your particular resource.\n\n\n"
      ]
    },
    {
      "cell_type": "code",
      "execution_count": 32,
      "metadata": {
        "collapsed": false,
        "tags": []
      },
      "outputs": [
        {
          "output_type": "stream",
          "name": "stdout",
          "text": "C:\\Users\\ahmed/gensim-data\\text8\\__init__.py\n"
        }
      ],
      "source": [
        "print(inspect.getfile(corpus.__class__))"
      ]
    },
    {
      "cell_type": "markdown",
      "metadata": {},
      "source": [
        "As the corpus has been downloaded and loaded, let's create a word2vec model of our corpus.\n\n\n"
      ]
    },
    {
      "cell_type": "code",
      "execution_count": 33,
      "metadata": {
        "collapsed": false,
        "tags": []
      },
      "outputs": [
        {
          "output_type": "stream",
          "name": "stderr",
          "text": "2020-08-03 03:25:04,517 : INFO : collecting all words and their counts\n2020-08-03 03:25:04,521 : INFO : PROGRESS: at sentence #0, processed 0 words, keeping 0 word types\n2020-08-03 03:25:09,578 : INFO : collected 253854 word types from a corpus of 17005207 raw words and 1701 sentences\n2020-08-03 03:25:09,581 : INFO : Loading a fresh vocabulary\n2020-08-03 03:25:09,895 : INFO : effective_min_count=5 retains 71290 unique words (28% of original 253854, drops 182564)\n2020-08-03 03:25:09,897 : INFO : effective_min_count=5 leaves 16718844 word corpus (98% of original 17005207, drops 286363)\n2020-08-03 03:25:10,119 : INFO : deleting the raw counts dictionary of 253854 items\n2020-08-03 03:25:10,129 : INFO : sample=0.001 downsamples 38 most-common words\n2020-08-03 03:25:10,131 : INFO : downsampling leaves estimated 12506280 word corpus (74.8% of prior 16718844)\n2020-08-03 03:25:10,306 : INFO : estimated required memory for 71290 words and 100 dimensions: 92677000 bytes\n2020-08-03 03:25:10,309 : INFO : resetting layer weights\n2020-08-03 03:25:24,781 : INFO : training model with 3 workers on 71290 vocabulary and 100 features, using sg=0 hs=0 sample=0.001 negative=5 window=5\n2020-08-03 03:25:25,790 : INFO : EPOCH 1 - PROGRESS: at 10.11% examples, 1251127 words/s, in_qsize 0, out_qsize 0\n2020-08-03 03:25:26,792 : INFO : EPOCH 1 - PROGRESS: at 20.87% examples, 1295239 words/s, in_qsize 0, out_qsize 0\n2020-08-03 03:25:27,796 : INFO : EPOCH 1 - PROGRESS: at 31.33% examples, 1302958 words/s, in_qsize 0, out_qsize 0\n2020-08-03 03:25:28,805 : INFO : EPOCH 1 - PROGRESS: at 41.62% examples, 1297843 words/s, in_qsize 0, out_qsize 0\n2020-08-03 03:25:29,808 : INFO : EPOCH 1 - PROGRESS: at 52.38% examples, 1307672 words/s, in_qsize 0, out_qsize 0\n2020-08-03 03:25:30,810 : INFO : EPOCH 1 - PROGRESS: at 62.85% examples, 1308523 words/s, in_qsize 0, out_qsize 0\n2020-08-03 03:25:31,814 : INFO : EPOCH 1 - PROGRESS: at 73.60% examples, 1313860 words/s, in_qsize 0, out_qsize 0\n2020-08-03 03:25:32,816 : INFO : EPOCH 1 - PROGRESS: at 84.30% examples, 1314285 words/s, in_qsize 0, out_qsize 0\n2020-08-03 03:25:33,821 : INFO : EPOCH 1 - PROGRESS: at 94.18% examples, 1304519 words/s, in_qsize 0, out_qsize 0\n2020-08-03 03:25:34,406 : INFO : worker thread finished; awaiting finish of 2 more threads\n2020-08-03 03:25:34,409 : INFO : worker thread finished; awaiting finish of 1 more threads\n2020-08-03 03:25:34,411 : INFO : worker thread finished; awaiting finish of 0 more threads\n2020-08-03 03:25:34,413 : INFO : EPOCH - 1 : training on 17005207 raw words (12508328 effective words) took 9.6s, 1299245 effective words/s\n2020-08-03 03:25:35,419 : INFO : EPOCH 2 - PROGRESS: at 9.99% examples, 1238849 words/s, in_qsize 0, out_qsize 0\n2020-08-03 03:25:36,421 : INFO : EPOCH 2 - PROGRESS: at 20.05% examples, 1245426 words/s, in_qsize 0, out_qsize 0\n2020-08-03 03:25:37,422 : INFO : EPOCH 2 - PROGRESS: at 30.10% examples, 1253477 words/s, in_qsize 0, out_qsize 0\n2020-08-03 03:25:38,425 : INFO : EPOCH 2 - PROGRESS: at 40.27% examples, 1259491 words/s, in_qsize 0, out_qsize 0\n2020-08-03 03:25:39,425 : INFO : EPOCH 2 - PROGRESS: at 50.32% examples, 1260277 words/s, in_qsize 0, out_qsize 0\n2020-08-03 03:25:40,433 : INFO : EPOCH 2 - PROGRESS: at 60.91% examples, 1270001 words/s, in_qsize 0, out_qsize 0\n2020-08-03 03:25:41,434 : INFO : EPOCH 2 - PROGRESS: at 71.49% examples, 1278144 words/s, in_qsize 0, out_qsize 0\n2020-08-03 03:25:42,436 : INFO : EPOCH 2 - PROGRESS: at 82.25% examples, 1283980 words/s, in_qsize 0, out_qsize 0\n2020-08-03 03:25:43,437 : INFO : EPOCH 2 - PROGRESS: at 93.06% examples, 1291206 words/s, in_qsize 0, out_qsize 0\n2020-08-03 03:25:44,074 : INFO : worker thread finished; awaiting finish of 2 more threads\n2020-08-03 03:25:44,077 : INFO : worker thread finished; awaiting finish of 1 more threads\n2020-08-03 03:25:44,080 : INFO : worker thread finished; awaiting finish of 0 more threads\n2020-08-03 03:25:44,082 : INFO : EPOCH - 2 : training on 17005207 raw words (12506772 effective words) took 9.7s, 1294072 effective words/s\n2020-08-03 03:25:45,086 : INFO : EPOCH 3 - PROGRESS: at 10.88% examples, 1349298 words/s, in_qsize 0, out_qsize 0\n2020-08-03 03:25:46,091 : INFO : EPOCH 3 - PROGRESS: at 21.63% examples, 1344195 words/s, in_qsize 0, out_qsize 0\n2020-08-03 03:25:47,099 : INFO : EPOCH 3 - PROGRESS: at 32.10% examples, 1333385 words/s, in_qsize 1, out_qsize 0\n2020-08-03 03:25:48,099 : INFO : EPOCH 3 - PROGRESS: at 42.21% examples, 1318115 words/s, in_qsize 0, out_qsize 0\n2020-08-03 03:25:49,100 : INFO : EPOCH 3 - PROGRESS: at 52.44% examples, 1311018 words/s, in_qsize 0, out_qsize 0\n2020-08-03 03:25:50,106 : INFO : EPOCH 3 - PROGRESS: at 63.14% examples, 1315446 words/s, in_qsize 0, out_qsize 0\n2020-08-03 03:25:51,106 : INFO : EPOCH 3 - PROGRESS: at 73.43% examples, 1312053 words/s, in_qsize 0, out_qsize 0\n2020-08-03 03:25:52,111 : INFO : EPOCH 3 - PROGRESS: at 83.95% examples, 1309419 words/s, in_qsize 0, out_qsize 0\n2020-08-03 03:25:53,112 : INFO : EPOCH 3 - PROGRESS: at 94.36% examples, 1307819 words/s, in_qsize 0, out_qsize 0\n2020-08-03 03:25:53,629 : INFO : worker thread finished; awaiting finish of 2 more threads\n2020-08-03 03:25:53,632 : INFO : worker thread finished; awaiting finish of 1 more threads\n2020-08-03 03:25:53,634 : INFO : worker thread finished; awaiting finish of 0 more threads\n2020-08-03 03:25:53,636 : INFO : EPOCH - 3 : training on 17005207 raw words (12505788 effective words) took 9.5s, 1309515 effective words/s\n2020-08-03 03:25:54,645 : INFO : EPOCH 4 - PROGRESS: at 10.88% examples, 1342581 words/s, in_qsize 0, out_qsize 0\n2020-08-03 03:25:55,646 : INFO : EPOCH 4 - PROGRESS: at 21.58% examples, 1339925 words/s, in_qsize 0, out_qsize 0\n2020-08-03 03:25:56,654 : INFO : EPOCH 4 - PROGRESS: at 32.33% examples, 1343188 words/s, in_qsize 0, out_qsize 0\n2020-08-03 03:25:57,656 : INFO : EPOCH 4 - PROGRESS: at 43.09% examples, 1345521 words/s, in_qsize 0, out_qsize 0\n2020-08-03 03:25:58,659 : INFO : EPOCH 4 - PROGRESS: at 53.91% examples, 1346931 words/s, in_qsize 0, out_qsize 0\n2020-08-03 03:25:59,664 : INFO : EPOCH 4 - PROGRESS: at 64.37% examples, 1340277 words/s, in_qsize 0, out_qsize 0\n2020-08-03 03:26:00,669 : INFO : EPOCH 4 - PROGRESS: at 75.01% examples, 1338099 words/s, in_qsize 0, out_qsize 0\n2020-08-03 03:26:01,675 : INFO : EPOCH 4 - PROGRESS: at 85.19% examples, 1326805 words/s, in_qsize 0, out_qsize 0\n2020-08-03 03:26:02,682 : INFO : EPOCH 4 - PROGRESS: at 95.88% examples, 1326832 words/s, in_qsize 0, out_qsize 0\n2020-08-03 03:26:03,053 : INFO : worker thread finished; awaiting finish of 2 more threads\n2020-08-03 03:26:03,055 : INFO : worker thread finished; awaiting finish of 1 more threads\n2020-08-03 03:26:03,058 : INFO : worker thread finished; awaiting finish of 0 more threads\n2020-08-03 03:26:03,060 : INFO : EPOCH - 4 : training on 17005207 raw words (12505202 effective words) took 9.4s, 1327574 effective words/s\n2020-08-03 03:26:04,064 : INFO : EPOCH 5 - PROGRESS: at 10.82% examples, 1341355 words/s, in_qsize 0, out_qsize 0\n2020-08-03 03:26:05,070 : INFO : EPOCH 5 - PROGRESS: at 21.05% examples, 1306137 words/s, in_qsize 0, out_qsize 0\n2020-08-03 03:26:06,075 : INFO : EPOCH 5 - PROGRESS: at 30.98% examples, 1287174 words/s, in_qsize 0, out_qsize 0\n2020-08-03 03:26:07,077 : INFO : EPOCH 5 - PROGRESS: at 41.03% examples, 1281059 words/s, in_qsize 0, out_qsize 0\n2020-08-03 03:26:08,078 : INFO : EPOCH 5 - PROGRESS: at 51.09% examples, 1277389 words/s, in_qsize 0, out_qsize 0\n2020-08-03 03:26:09,086 : INFO : EPOCH 5 - PROGRESS: at 61.20% examples, 1274623 words/s, in_qsize 0, out_qsize 0\n2020-08-03 03:26:10,088 : INFO : EPOCH 5 - PROGRESS: at 71.78% examples, 1281611 words/s, in_qsize 0, out_qsize 0\n2020-08-03 03:26:11,089 : INFO : EPOCH 5 - PROGRESS: at 82.07% examples, 1279909 words/s, in_qsize 0, out_qsize 0\n2020-08-03 03:26:12,092 : INFO : EPOCH 5 - PROGRESS: at 92.36% examples, 1279881 words/s, in_qsize 0, out_qsize 0\n2020-08-03 03:26:12,838 : INFO : worker thread finished; awaiting finish of 2 more threads\n2020-08-03 03:26:12,841 : INFO : worker thread finished; awaiting finish of 1 more threads\n2020-08-03 03:26:12,843 : INFO : worker thread finished; awaiting finish of 0 more threads\n2020-08-03 03:26:12,845 : INFO : EPOCH - 5 : training on 17005207 raw words (12504458 effective words) took 9.8s, 1278414 effective words/s\n2020-08-03 03:26:12,847 : INFO : training on a 85026035 raw words (62530548 effective words) took 48.1s, 1301008 effective words/s\n"
        }
      ],
      "source": [
        "from gensim.models.word2vec import Word2Vec\nmodel = Word2Vec(corpus)"
      ]
    },
    {
      "cell_type": "markdown",
      "metadata": {},
      "source": [
        "Now that we have our word2vec model, let's find words that are similar to 'tree'\n\n\n"
      ]
    },
    {
      "cell_type": "code",
      "execution_count": 41,
      "metadata": {
        "collapsed": false,
        "tags": []
      },
      "outputs": [
        {
          "output_type": "stream",
          "name": "stdout",
          "text": "[('queen', 0.7032446265220642), ('prince', 0.6526727676391602), ('princess', 0.6405998468399048), ('throne', 0.6385937929153442), ('empress', 0.6310316920280457), ('emperor', 0.6221027374267578), ('son', 0.6159497499465942), ('daughter', 0.5943302512168884), ('kings', 0.5887345671653748), ('regent', 0.5825179815292358)]\n[('queen', 0.9254816174507141), ('empress', 0.8905287384986877), ('princess', 0.8876326084136963), ('prince', 0.8854631185531616), ('throne', 0.8796144723892212), ('son', 0.8704550862312317), ('emperor', 0.8696814775466919), ('daughter', 0.8569953441619873), ('mary', 0.8484140634536743), ('kings', 0.8460395932197571)]\n[('sicily', 0.7330464124679565), ('tripoli', 0.676690936088562), ('syria', 0.669843316078186), ('spain', 0.6649556756019592), ('ethiopia', 0.6634435653686523), ('gaul', 0.6625833511352539), ('normandy', 0.6616442799568176), ('persia', 0.6580908298492432), ('moors', 0.6456854343414307), ('damascus', 0.6437581777572632)]\n[('sicily', 1.0242270231246948), ('spain', 0.9850991368293762), ('syria', 0.9768527150154114), ('ethiopia', 0.976715624332428), ('gaul', 0.9722827672958374), ('persia', 0.9715610146522522), ('normandy', 0.9670290946960449), ('moors', 0.9643527269363403), ('argentina', 0.9626197814941406), ('stronghold', 0.9597533345222473)]\n"
        }
      ],
      "source": [
        "print(model.most_similar(positive=[\"woman\",\"king\"],negative=[\"man\"]))\n",
        "print(model.most_similar_cosmul(positive=[\"woman\",\"king\"],negative=[\"man\"]))\n",
        "print(model.most_similar(positive=['baghdad', 'england'], negative=['london']))\n",
        "\n",
        "print(model.most_similar_cosmul(positive=['baghdad', 'england'], negative=['london']))\n"
      ]
    },
    {
      "cell_type": "code",
      "execution_count": 47,
      "metadata": {
        "tags": []
      },
      "outputs": [
        {
          "output_type": "error",
          "ename": "SyntaxError",
          "evalue": "unexpected EOF while parsing (<ipython-input-47-3dc95df40e75>, line 4)",
          "traceback": [
            "\u001b[1;36m  File \u001b[1;32m\"<ipython-input-47-3dc95df40e75>\"\u001b[1;36m, line \u001b[1;32m4\u001b[0m\n\u001b[1;33m    print(model.similar_by_vector((\"hello\"))\u001b[0m\n\u001b[1;37m                                            ^\u001b[0m\n\u001b[1;31mSyntaxError\u001b[0m\u001b[1;31m:\u001b[0m unexpected EOF while parsing\n"
          ]
        }
      ],
      "source": [
        "print(model.doesnt_match(\"breakfast cereal dinner lunch\".split()))\n",
        "\n",
        "print(model.similarity('woman', 'man'))\n",
        "print(model.similar_by_word((\"hello\"))\n"
      ]
    },
    {
      "cell_type": "code",
      "execution_count": 49,
      "metadata": {},
      "outputs": [],
      "source": [
        "sentence_obama = 'Obama speaks to the media in Illinois'.lower().split()\n",
        "sentence_president = 'The president greets the press in Chicago'.lower().split()\n",
        "from nltk.corpus import stopwords\n",
        "import nltk\n",
        "stopwords = nltk.corpus.stopwords.words('english')\n",
        "sentence_obama = [w for w in sentence_obama if w not in stopwords]\n",
        "sentence_president = [w for w in sentence_president if w not in stopwords]\n",
        "distance = model.wmdistance(sentence_obama, sentence_president)"
      ]
    },
    {
      "cell_type": "markdown",
      "metadata": {},
      "source": [
        "You can use the API to download many corpora and models. You can get the list of all the models and corpora that are provided, by using the code below:\n\n\n"
      ]
    },
    {
      "cell_type": "code",
      "execution_count": 17,
      "metadata": {
        "collapsed": false,
        "tags": [
          "outputPrepend"
        ]
      },
      "outputs": [
        {
          "output_type": "stream",
          "name": "stdout",
          "text": "it__.py\",\n            \"license\": \"https://dumps.wikimedia.org/legal.html\",\n            \"fields\": {\n                \"section_texts\": \"list of body of sections\",\n                \"section_titles\": \"list of titles of sections\",\n                \"title\": \"Title of wiki article\"\n            },\n            \"description\": \"Extracted Wikipedia dump from October 2017. Produced by `python -m gensim.scripts.segment_wiki -f enwiki-20171001-pages-articles.xml.bz2 -o wiki-en.gz`\",\n            \"checksum-0\": \"a7d7d7fd41ea7e2d7fa32ec1bb640d71\",\n            \"checksum-1\": \"b2683e3356ffbca3b6c2dca6e9801f9f\",\n            \"checksum-2\": \"c5cde2a9ae77b3c4ebce804f6df542c2\",\n            \"checksum-3\": \"00b71144ed5e3aeeb885de84f7452b81\",\n            \"file_name\": \"wiki-english-20171001.gz\",\n            \"read_more\": [\n                \"https://dumps.wikimedia.org/enwiki/20171001/\"\n            ],\n            \"parts\": 4\n        },\n        \"text8\": {\n            \"num_records\": 1701,\n            \"record_format\": \"list of str (tokens)\",\n            \"file_size\": 33182058,\n            \"reader_code\": \"https://github.com/RaRe-Technologies/gensim-data/releases/download/text8/__init__.py\",\n            \"license\": \"not found\",\n            \"description\": \"First 100,000,000 bytes of plain text from Wikipedia. Used for testing purposes; see wiki-english-* for proper full Wikipedia datasets.\",\n            \"checksum\": \"68799af40b6bda07dfa47a32612e5364\",\n            \"file_name\": \"text8.gz\",\n            \"read_more\": [\n                \"http://mattmahoney.net/dc/textdata.html\"\n            ],\n            \"parts\": 1\n        },\n        \"fake-news\": {\n            \"num_records\": 12999,\n            \"record_format\": \"dict\",\n            \"file_size\": 20102776,\n            \"reader_code\": \"https://github.com/RaRe-Technologies/gensim-data/releases/download/fake-news/__init__.py\",\n            \"license\": \"https://creativecommons.org/publicdomain/zero/1.0/\",\n            \"fields\": {\n                \"crawled\": \"date the story was archived\",\n                \"ord_in_thread\": \"\",\n                \"published\": \"date published\",\n                \"participants_count\": \"number of participants\",\n                \"shares\": \"number of Facebook shares\",\n                \"replies_count\": \"number of replies\",\n                \"main_img_url\": \"image from story\",\n                \"spam_score\": \"data from webhose.io\",\n                \"uuid\": \"unique identifier\",\n                \"language\": \"data from webhose.io\",\n                \"title\": \"title of story\",\n                \"country\": \"data from webhose.io\",\n                \"domain_rank\": \"data from webhose.io\",\n                \"author\": \"author of story\",\n                \"comments\": \"number of Facebook comments\",\n                \"site_url\": \"site URL from BS detector\",\n                \"text\": \"text of story\",\n                \"thread_title\": \"\",\n                \"type\": \"type of website (label from BS detector)\",\n                \"likes\": \"number of Facebook likes\"\n            },\n            \"description\": \"News dataset, contains text and metadata from 244 websites and represents 12,999 posts in total from a specific window of 30 days. The data was pulled using the webhose.io API, and because it's coming from their crawler, not all websites identified by their BS Detector are present in this dataset. Data sources that were missing a label were simply assigned a label of 'bs'. There are (ostensibly) no genuine, reliable, or trustworthy news sources represented in this dataset (so far), so don't trust anything you read.\",\n            \"checksum\": \"5e64e942df13219465927f92dcefd5fe\",\n            \"file_name\": \"fake-news.gz\",\n            \"read_more\": [\n                \"https://www.kaggle.com/mrisdal/fake-news\"\n            ],\n            \"parts\": 1\n        },\n        \"20-newsgroups\": {\n            \"num_records\": 18846,\n            \"record_format\": \"dict\",\n            \"file_size\": 14483581,\n            \"reader_code\": \"https://github.com/RaRe-Technologies/gensim-data/releases/download/20-newsgroups/__init__.py\",\n            \"license\": \"not found\",\n            \"fields\": {\n                \"topic\": \"name of topic (20 variant of possible values)\",\n                \"set\": \"marker of original split (possible values 'train' and 'test')\",\n                \"data\": \"\",\n                \"id\": \"original id inferred from folder name\"\n            },\n            \"description\": \"The notorious collection of approximately 20,000 newsgroup posts, partitioned (nearly) evenly across 20 different newsgroups.\",\n            \"checksum\": \"c92fd4f6640a86d5ba89eaad818a9891\",\n            \"file_name\": \"20-newsgroups.gz\",\n            \"read_more\": [\n                \"http://qwone.com/~jason/20Newsgroups/\"\n            ],\n            \"parts\": 1\n        },\n        \"__testing_matrix-synopsis\": {\n            \"description\": \"[THIS IS ONLY FOR TESTING] Synopsis of the movie matrix.\",\n            \"checksum\": \"1767ac93a089b43899d54944b07d9dc5\",\n            \"file_name\": \"__testing_matrix-synopsis.gz\",\n            \"read_more\": [\n                \"http://www.imdb.com/title/tt0133093/plotsummary?ref_=ttpl_pl_syn#synopsis\"\n            ],\n            \"parts\": 1\n        },\n        \"__testing_multipart-matrix-synopsis\": {\n            \"description\": \"[THIS IS ONLY FOR TESTING] Synopsis of the movie matrix.\",\n            \"checksum-0\": \"c8b0c7d8cf562b1b632c262a173ac338\",\n            \"checksum-1\": \"5ff7fc6818e9a5d9bc1cf12c35ed8b96\",\n            \"checksum-2\": \"966db9d274d125beaac7987202076cba\",\n            \"file_name\": \"__testing_multipart-matrix-synopsis.gz\",\n            \"read_more\": [\n                \"http://www.imdb.com/title/tt0133093/plotsummary?ref_=ttpl_pl_syn#synopsis\"\n            ],\n            \"parts\": 3\n        }\n    },\n    \"models\": {\n        \"fasttext-wiki-news-subwords-300\": {\n            \"num_records\": 999999,\n            \"file_size\": 1005007116,\n            \"base_dataset\": \"Wikipedia 2017, UMBC webbase corpus and statmt.org news dataset (16B tokens)\",\n            \"reader_code\": \"https://github.com/RaRe-Technologies/gensim-data/releases/download/fasttext-wiki-news-subwords-300/__init__.py\",\n            \"license\": \"https://creativecommons.org/licenses/by-sa/3.0/\",\n            \"parameters\": {\n                \"dimension\": 300\n            },\n            \"description\": \"1 million word vectors trained on Wikipedia 2017, UMBC webbase corpus and statmt.org news dataset (16B tokens).\",\n            \"read_more\": [\n                \"https://fasttext.cc/docs/en/english-vectors.html\",\n                \"https://arxiv.org/abs/1712.09405\",\n                \"https://arxiv.org/abs/1607.01759\"\n            ],\n            \"checksum\": \"de2bb3a20c46ce65c9c131e1ad9a77af\",\n            \"file_name\": \"fasttext-wiki-news-subwords-300.gz\",\n            \"parts\": 1\n        },\n        \"conceptnet-numberbatch-17-06-300\": {\n            \"num_records\": 1917247,\n            \"file_size\": 1225497562,\n            \"base_dataset\": \"ConceptNet, word2vec, GloVe, and OpenSubtitles 2016\",\n            \"reader_code\": \"https://github.com/RaRe-Technologies/gensim-data/releases/download/conceptnet-numberbatch-17-06-300/__init__.py\",\n            \"license\": \"https://github.com/commonsense/conceptnet-numberbatch/blob/master/LICENSE.txt\",\n            \"parameters\": {\n                \"dimension\": 300\n            },\n            \"description\": \"ConceptNet Numberbatch consists of state-of-the-art semantic vectors (also known as word embeddings) that can be used directly as a representation of word meanings or as a starting point for further machine learning. ConceptNet Numberbatch is part of the ConceptNet open data project. ConceptNet provides lots of ways to compute with word meanings, one of which is word embeddings. ConceptNet Numberbatch is a snapshot of just the word embeddings. It is built using an ensemble that combines data from ConceptNet, word2vec, GloVe, and OpenSubtitles 2016, using a variation on retrofitting.\",\n            \"read_more\": [\n                \"http://aaai.org/ocs/index.php/AAAI/AAAI17/paper/view/14972\",\n                \"https://github.com/commonsense/conceptnet-numberbatch\",\n                \"http://conceptnet.io/\"\n            ],\n            \"checksum\": \"fd642d457adcd0ea94da0cd21b150847\",\n            \"file_name\": \"conceptnet-numberbatch-17-06-300.gz\",\n            \"parts\": 1\n        },\n        \"word2vec-ruscorpora-300\": {\n            \"num_records\": 184973,\n            \"file_size\": 208427381,\n            \"base_dataset\": \"Russian National Corpus (about 250M words)\",\n            \"reader_code\": \"https://github.com/RaRe-Technologies/gensim-data/releases/download/word2vec-ruscorpora-300/__init__.py\",\n            \"license\": \"https://creativecommons.org/licenses/by/4.0/deed.en\",\n            \"parameters\": {\n                \"dimension\": 300,\n                \"window_size\": 10\n            },\n            \"description\": \"Word2vec Continuous Skipgram vectors trained on full Russian National Corpus (about 250M words). The model contains 185K words.\",\n            \"preprocessing\": \"The corpus was lemmatized and tagged with Universal PoS\",\n            \"read_more\": [\n                \"https://www.academia.edu/24306935/WebVectors_a_Toolkit_for_Building_Web_Interfaces_for_Vector_Semantic_Models\",\n                \"http://rusvectores.org/en/\",\n                \"https://github.com/RaRe-Technologies/gensim-data/issues/3\"\n            ],\n            \"checksum\": \"9bdebdc8ae6d17d20839dd9b5af10bc4\",\n            \"file_name\": \"word2vec-ruscorpora-300.gz\",\n            \"parts\": 1\n        },\n        \"word2vec-google-news-300\": {\n            \"num_records\": 3000000,\n            \"file_size\": 1743563840,\n            \"base_dataset\": \"Google News (about 100 billion words)\",\n            \"reader_code\": \"https://github.com/RaRe-Technologies/gensim-data/releases/download/word2vec-google-news-300/__init__.py\",\n            \"license\": \"not found\",\n            \"parameters\": {\n                \"dimension\": 300\n            },\n            \"description\": \"Pre-trained vectors trained on a part of the Google News dataset (about 100 billion words). The model contains 300-dimensional vectors for 3 million words and phrases. The phrases were obtained using a simple data-driven approach described in 'Distributed Representations of Words and Phrases and their Compositionality' (https://code.google.com/archive/p/word2vec/).\",\n            \"read_more\": [\n                \"https://code.google.com/archive/p/word2vec/\",\n                \"https://arxiv.org/abs/1301.3781\",\n                \"https://arxiv.org/abs/1310.4546\",\n                \"https://www.microsoft.com/en-us/research/publication/linguistic-regularities-in-continuous-space-word-representations/?from=http%3A%2F%2Fresearch.microsoft.com%2Fpubs%2F189726%2Frvecs.pdf\"\n            ],\n            \"checksum\": \"a5e5354d40acb95f9ec66d5977d140ef\",\n            \"file_name\": \"word2vec-google-news-300.gz\",\n            \"parts\": 1\n        },\n        \"glove-wiki-gigaword-50\": {\n            \"num_records\": 400000,\n            \"file_size\": 69182535,\n            \"base_dataset\": \"Wikipedia 2014 + Gigaword 5 (6B tokens, uncased)\",\n            \"reader_code\": \"https://github.com/RaRe-Technologies/gensim-data/releases/download/glove-wiki-gigaword-50/__init__.py\",\n            \"license\": \"http://opendatacommons.org/licenses/pddl/\",\n            \"parameters\": {\n                \"dimension\": 50\n            },\n            \"description\": \"Pre-trained vectors based on Wikipedia 2014 + Gigaword, 5.6B tokens, 400K vocab, uncased (https://nlp.stanford.edu/projects/glove/).\",\n            \"preprocessing\": \"Converted to w2v format with `python -m gensim.scripts.glove2word2vec -i <fname> -o glove-wiki-gigaword-50.txt`.\",\n            \"read_more\": [\n                \"https://nlp.stanford.edu/projects/glove/\",\n                \"https://nlp.stanford.edu/pubs/glove.pdf\"\n            ],\n            \"checksum\": \"c289bc5d7f2f02c6dc9f2f9b67641813\",\n            \"file_name\": \"glove-wiki-gigaword-50.gz\",\n            \"parts\": 1\n        },\n        \"glove-wiki-gigaword-100\": {\n            \"num_records\": 400000,\n            \"file_size\": 134300434,\n            \"base_dataset\": \"Wikipedia 2014 + Gigaword 5 (6B tokens, uncased)\",\n            \"reader_code\": \"https://github.com/RaRe-Technologies/gensim-data/releases/download/glove-wiki-gigaword-100/__init__.py\",\n            \"license\": \"http://opendatacommons.org/licenses/pddl/\",\n            \"parameters\": {\n                \"dimension\": 100\n            },\n            \"description\": \"Pre-trained vectors based on Wikipedia 2014 + Gigaword 5.6B tokens, 400K vocab, uncased (https://nlp.stanford.edu/projects/glove/).\",\n            \"preprocessing\": \"Converted to w2v format with `python -m gensim.scripts.glove2word2vec -i <fname> -o glove-wiki-gigaword-100.txt`.\",\n            \"read_more\": [\n                \"https://nlp.stanford.edu/projects/glove/\",\n                \"https://nlp.stanford.edu/pubs/glove.pdf\"\n            ],\n            \"checksum\": \"40ec481866001177b8cd4cb0df92924f\",\n            \"file_name\": \"glove-wiki-gigaword-100.gz\",\n            \"parts\": 1\n        },\n        \"glove-wiki-gigaword-200\": {\n            \"num_records\": 400000,\n            \"file_size\": 264336934,\n            \"base_dataset\": \"Wikipedia 2014 + Gigaword 5 (6B tokens, uncased)\",\n            \"reader_code\": \"https://github.com/RaRe-Technologies/gensim-data/releases/download/glove-wiki-gigaword-200/__init__.py\",\n            \"license\": \"http://opendatacommons.org/licenses/pddl/\",\n            \"parameters\": {\n                \"dimension\": 200\n            },\n            \"description\": \"Pre-trained vectors based on Wikipedia 2014 + Gigaword, 5.6B tokens, 400K vocab, uncased (https://nlp.stanford.edu/projects/glove/).\",\n            \"preprocessing\": \"Converted to w2v format with `python -m gensim.scripts.glove2word2vec -i <fname> -o glove-wiki-gigaword-200.txt`.\",\n            \"read_more\": [\n                \"https://nlp.stanford.edu/projects/glove/\",\n                \"https://nlp.stanford.edu/pubs/glove.pdf\"\n            ],\n            \"checksum\": \"59652db361b7a87ee73834a6c391dfc1\",\n            \"file_name\": \"glove-wiki-gigaword-200.gz\",\n            \"parts\": 1\n        },\n        \"glove-wiki-gigaword-300\": {\n            \"num_records\": 400000,\n            \"file_size\": 394362229,\n            \"base_dataset\": \"Wikipedia 2014 + Gigaword 5 (6B tokens, uncased)\",\n            \"reader_code\": \"https://github.com/RaRe-Technologies/gensim-data/releases/download/glove-wiki-gigaword-300/__init__.py\",\n            \"license\": \"http://opendatacommons.org/licenses/pddl/\",\n            \"parameters\": {\n                \"dimension\": 300\n            },\n            \"description\": \"Pre-trained vectors based on Wikipedia 2014 + Gigaword, 5.6B tokens, 400K vocab, uncased (https://nlp.stanford.edu/projects/glove/).\",\n            \"preprocessing\": \"Converted to w2v format with `python -m gensim.scripts.glove2word2vec -i <fname> -o glove-wiki-gigaword-300.txt`.\",\n            \"read_more\": [\n                \"https://nlp.stanford.edu/projects/glove/\",\n                \"https://nlp.stanford.edu/pubs/glove.pdf\"\n            ],\n            \"checksum\": \"29e9329ac2241937d55b852e8284e89b\",\n            \"file_name\": \"glove-wiki-gigaword-300.gz\",\n            \"parts\": 1\n        },\n        \"glove-twitter-25\": {\n            \"num_records\": 1193514,\n            \"file_size\": 109885004,\n            \"base_dataset\": \"Twitter (2B tweets, 27B tokens, 1.2M vocab, uncased)\",\n            \"reader_code\": \"https://github.com/RaRe-Technologies/gensim-data/releases/download/glove-twitter-25/__init__.py\",\n            \"license\": \"http://opendatacommons.org/licenses/pddl/\",\n            \"parameters\": {\n                \"dimension\": 25\n            },\n            \"description\": \"Pre-trained vectors based on 2B tweets, 27B tokens, 1.2M vocab, uncased (https://nlp.stanford.edu/projects/glove/).\",\n            \"preprocessing\": \"Converted to w2v format with `python -m gensim.scripts.glove2word2vec -i <fname> -o glove-twitter-25.txt`.\",\n            \"read_more\": [\n                \"https://nlp.stanford.edu/projects/glove/\",\n                \"https://nlp.stanford.edu/pubs/glove.pdf\"\n            ],\n            \"checksum\": \"50db0211d7e7a2dcd362c6b774762793\",\n            \"file_name\": \"glove-twitter-25.gz\",\n            \"parts\": 1\n        },\n        \"glove-twitter-50\": {\n            \"num_records\": 1193514,\n            \"file_size\": 209216938,\n            \"base_dataset\": \"Twitter (2B tweets, 27B tokens, 1.2M vocab, uncased)\",\n            \"reader_code\": \"https://github.com/RaRe-Technologies/gensim-data/releases/download/glove-twitter-50/__init__.py\",\n            \"license\": \"http://opendatacommons.org/licenses/pddl/\",\n            \"parameters\": {\n                \"dimension\": 50\n            },\n            \"description\": \"Pre-trained vectors based on 2B tweets, 27B tokens, 1.2M vocab, uncased (https://nlp.stanford.edu/projects/glove/)\",\n            \"preprocessing\": \"Converted to w2v format with `python -m gensim.scripts.glove2word2vec -i <fname> -o glove-twitter-50.txt`.\",\n            \"read_more\": [\n                \"https://nlp.stanford.edu/projects/glove/\",\n                \"https://nlp.stanford.edu/pubs/glove.pdf\"\n            ],\n            \"checksum\": \"c168f18641f8c8a00fe30984c4799b2b\",\n            \"file_name\": \"glove-twitter-50.gz\",\n            \"parts\": 1\n        },\n        \"glove-twitter-100\": {\n            \"num_records\": 1193514,\n            \"file_size\": 405932991,\n            \"base_dataset\": \"Twitter (2B tweets, 27B tokens, 1.2M vocab, uncased)\",\n            \"reader_code\": \"https://github.com/RaRe-Technologies/gensim-data/releases/download/glove-twitter-100/__init__.py\",\n            \"license\": \"http://opendatacommons.org/licenses/pddl/\",\n            \"parameters\": {\n                \"dimension\": 100\n            },\n            \"description\": \"Pre-trained vectors based on  2B tweets, 27B tokens, 1.2M vocab, uncased (https://nlp.stanford.edu/projects/glove/)\",\n            \"preprocessing\": \"Converted to w2v format with `python -m gensim.scripts.glove2word2vec -i <fname> -o glove-twitter-100.txt`.\",\n            \"read_more\": [\n                \"https://nlp.stanford.edu/projects/glove/\",\n                \"https://nlp.stanford.edu/pubs/glove.pdf\"\n            ],\n            \"checksum\": \"b04f7bed38756d64cf55b58ce7e97b15\",\n            \"file_name\": \"glove-twitter-100.gz\",\n            \"parts\": 1\n        },\n        \"glove-twitter-200\": {\n            \"num_records\": 1193514,\n            \"file_size\": 795373100,\n            \"base_dataset\": \"Twitter (2B tweets, 27B tokens, 1.2M vocab, uncased)\",\n            \"reader_code\": \"https://github.com/RaRe-Technologies/gensim-data/releases/download/glove-twitter-200/__init__.py\",\n            \"license\": \"http://opendatacommons.org/licenses/pddl/\",\n            \"parameters\": {\n                \"dimension\": 200\n            },\n            \"description\": \"Pre-trained vectors based on 2B tweets, 27B tokens, 1.2M vocab, uncased (https://nlp.stanford.edu/projects/glove/).\",\n            \"preprocessing\": \"Converted to w2v format with `python -m gensim.scripts.glove2word2vec -i <fname> -o glove-twitter-200.txt`.\",\n            \"read_more\": [\n                \"https://nlp.stanford.edu/projects/glove/\",\n                \"https://nlp.stanford.edu/pubs/glove.pdf\"\n            ],\n            \"checksum\": \"e52e8392d1860b95d5308a525817d8f9\",\n            \"file_name\": \"glove-twitter-200.gz\",\n            \"parts\": 1\n        },\n        \"__testing_word2vec-matrix-synopsis\": {\n            \"description\": \"[THIS IS ONLY FOR TESTING] Word vecrors of the movie matrix.\",\n            \"parameters\": {\n                \"dimensions\": 50\n            },\n            \"preprocessing\": \"Converted to w2v using a preprocessed corpus. Converted to w2v format with `python3.5 -m gensim.models.word2vec -train <input_filename> -iter 50 -output <output_filename>`.\",\n            \"read_more\": [],\n            \"checksum\": \"534dcb8b56a360977a269b7bfc62d124\",\n            \"file_name\": \"__testing_word2vec-matrix-synopsis.gz\",\n            \"parts\": 1\n        }\n    }\n}\n"
        }
      ],
      "source": [
        "import json\ninfo = api.info()\nprint(json.dumps(info, indent=4))"
      ]
    },
    {
      "cell_type": "markdown",
      "metadata": {},
      "source": [
        "There are two types of data: corpora and models.\n\n"
      ]
    },
    {
      "cell_type": "code",
      "execution_count": 18,
      "metadata": {
        "collapsed": false,
        "tags": []
      },
      "outputs": [
        {
          "output_type": "stream",
          "name": "stdout",
          "text": "dict_keys(['corpora', 'models'])\n"
        }
      ],
      "source": [
        "print(info.keys())"
      ]
    },
    {
      "cell_type": "markdown",
      "metadata": {},
      "source": [
        "Let's have a look at the available corpora:\n\n"
      ]
    },
    {
      "cell_type": "code",
      "execution_count": 19,
      "metadata": {
        "collapsed": false,
        "tags": []
      },
      "outputs": [
        {
          "output_type": "stream",
          "name": "stdout",
          "text": "20-newsgroups (18846 records): The notorious collection of approximatel...\n__testing_matrix-synopsis (-1 records): [THIS IS ONLY FOR TESTING] Synopsis of t...\n__testing_multipart-matrix-synopsis (-1 records): [THIS IS ONLY FOR TESTING] Synopsis of t...\nfake-news (12999 records): News dataset, contains text and metadata...\npatent-2017 (353197 records): Patent Grant Full Text. Contains the ful...\nquora-duplicate-questions (404290 records): Over 400,000 lines of potential question...\nsemeval-2016-2017-task3-subtaskA-unannotated (189941 records): SemEval 2016 / 2017 Task 3 Subtask A una...\nsemeval-2016-2017-task3-subtaskBC (-1 records): SemEval 2016 / 2017 Task 3 Subtask B and...\ntext8 (1701 records): First 100,000,000 bytes of plain text fr...\nwiki-english-20171001 (4924894 records): Extracted Wikipedia dump from October 20...\n"
        }
      ],
      "source": [
        "for corpus_name, corpus_data in sorted(info['corpora'].items()):\n    print(\n        '%s (%d records): %s' % (\n            corpus_name,\n            corpus_data.get('num_records', -1),\n            corpus_data['description'][:40] + '...',\n        )\n    )"
      ]
    },
    {
      "cell_type": "markdown",
      "metadata": {},
      "source": [
        "... and the same for models:\n\n"
      ]
    },
    {
      "cell_type": "code",
      "execution_count": 20,
      "metadata": {
        "collapsed": false,
        "tags": []
      },
      "outputs": [
        {
          "output_type": "stream",
          "name": "stdout",
          "text": "__testing_word2vec-matrix-synopsis (-1 records): [THIS IS ONLY FOR TESTING] Word vecrors ...\nconceptnet-numberbatch-17-06-300 (1917247 records): ConceptNet Numberbatch consists of state...\nfasttext-wiki-news-subwords-300 (999999 records): 1 million word vectors trained on Wikipe...\nglove-twitter-100 (1193514 records): Pre-trained vectors based on  2B tweets,...\nglove-twitter-200 (1193514 records): Pre-trained vectors based on 2B tweets, ...\nglove-twitter-25 (1193514 records): Pre-trained vectors based on 2B tweets, ...\nglove-twitter-50 (1193514 records): Pre-trained vectors based on 2B tweets, ...\nglove-wiki-gigaword-100 (400000 records): Pre-trained vectors based on Wikipedia 2...\nglove-wiki-gigaword-200 (400000 records): Pre-trained vectors based on Wikipedia 2...\nglove-wiki-gigaword-300 (400000 records): Pre-trained vectors based on Wikipedia 2...\nglove-wiki-gigaword-50 (400000 records): Pre-trained vectors based on Wikipedia 2...\nword2vec-google-news-300 (3000000 records): Pre-trained vectors trained on a part of...\nword2vec-ruscorpora-300 (184973 records): Word2vec Continuous Skipgram vectors tra...\n"
        }
      ],
      "source": [
        "for model_name, model_data in sorted(info['models'].items()):\n    print(\n        '%s (%d records): %s' % (\n            model_name,\n            model_data.get('num_records', -1),\n            model_data['description'][:40] + '...',\n        )\n    )"
      ]
    },
    {
      "cell_type": "markdown",
      "metadata": {},
      "source": [
        "If you want to get detailed information about the model/corpus, use:\n\n\n"
      ]
    },
    {
      "cell_type": "code",
      "execution_count": null,
      "metadata": {
        "collapsed": false
      },
      "outputs": [],
      "source": [
        "fake_news_info = api.info('fake-news')\nprint(json.dumps(fake_news_info, indent=4))"
      ]
    },
    {
      "cell_type": "markdown",
      "metadata": {},
      "source": [
        "Sometimes, you do not want to load the model to memory. You would just want to get the path to the model. For that, use :\n\n\n"
      ]
    },
    {
      "cell_type": "code",
      "execution_count": 21,
      "metadata": {
        "collapsed": false,
        "tags": []
      },
      "outputs": [
        {
          "output_type": "stream",
          "name": "stdout",
          "text": "[==================================================] 100.0% 66.0/66.0MB downloaded\n2020-08-02 14:08:37,421 : INFO : glove-wiki-gigaword-50 downloaded\nC:\\Users\\ahmed/gensim-data\\glove-wiki-gigaword-50\\glove-wiki-gigaword-50.gz\n"
        }
      ],
      "source": [
        "print(api.load('glove-wiki-gigaword-50', return_path=True))"
      ]
    },
    {
      "cell_type": "markdown",
      "metadata": {},
      "source": [
        "If you want to load the model to memory, then:\n\n\n"
      ]
    },
    {
      "cell_type": "code",
      "execution_count": 22,
      "metadata": {
        "collapsed": false,
        "tags": []
      },
      "outputs": [
        {
          "output_type": "stream",
          "name": "stderr",
          "text": "2020-08-02 14:08:57,577 : INFO : loading projection weights from C:\\Users\\ahmed/gensim-data\\glove-wiki-gigaword-50\\glove-wiki-gigaword-50.gz\n2020-08-02 14:09:22,259 : INFO : loaded (400000, 50) matrix from C:\\Users\\ahmed/gensim-data\\glove-wiki-gigaword-50\\glove-wiki-gigaword-50.gz\n2020-08-02 14:09:22,281 : INFO : precomputing L2-norms of word weight vectors\n"
        },
        {
          "output_type": "execute_result",
          "data": {
            "text/plain": "[('plastic', 0.7942505478858948),\n ('metal', 0.770871639251709),\n ('walls', 0.7700636386871338),\n ('marble', 0.7638524174690247),\n ('wood', 0.7624281048774719),\n ('ceramic', 0.7602593302726746),\n ('pieces', 0.7589111924171448),\n ('stained', 0.7528817057609558),\n ('tile', 0.748193621635437),\n ('furniture', 0.746385931968689)]"
          },
          "metadata": {},
          "execution_count": 22
        }
      ],
      "source": [
        "model = api.load(\"glove-wiki-gigaword-50\")\nmodel.most_similar(\"glass\")"
      ]
    },
    {
      "cell_type": "markdown",
      "metadata": {},
      "source": [
        "In corpora, the corpus is never loaded to memory, all corpuses wrapped to special class ``Dataset`` and provide ``__iter__`` method\n\n\n"
      ]
    },
    {
      "cell_type": "code",
      "execution_count": 23,
      "metadata": {},
      "outputs": [
        {
          "output_type": "execute_result",
          "data": {
            "text/plain": "[('berates', 0.6456252932548523),\n ('njinga', 0.6397151947021484),\n ('nafeek', 0.6385630369186401),\n ('horman', 0.62641841173172),\n ('genseric', 0.6253653764724731),\n ('sadeghnia', 0.6160673499107361),\n ('runas', 0.6149552464485168),\n ('befriending', 0.6077734231948853),\n ('flatmate', 0.6053695678710938),\n ('æthelflæd', 0.5924665331840515)]"
          },
          "metadata": {},
          "execution_count": 23
        }
      ],
      "source": [
        "model.most_similar(positive=[\"woman\",\"king\"],negative=\"man\")"
      ]
    },
    {
      "cell_type": "code",
      "execution_count": null,
      "metadata": {},
      "outputs": [],
      "source": []
    },
    {
      "cell_type": "code",
      "execution_count": null,
      "metadata": {},
      "outputs": [],
      "source": []
    },
    {
      "cell_type": "code",
      "execution_count": 36,
      "metadata": {},
      "outputs": [
        {
          "output_type": "error",
          "ename": "AttributeError",
          "evalue": "module 'gensim.models.keyedvectors' has no attribute 'load_word2vec_format'",
          "traceback": [
            "\u001b[1;31m---------------------------------------------------------------------------\u001b[0m",
            "\u001b[1;31mAttributeError\u001b[0m                            Traceback (most recent call last)",
            "\u001b[1;32m<ipython-input-36-e0609a374966>\u001b[0m in \u001b[0;36m<module>\u001b[1;34m\u001b[0m\n\u001b[0;32m      1\u001b[0m \u001b[1;32mfrom\u001b[0m \u001b[0mgensim\u001b[0m\u001b[1;33m.\u001b[0m\u001b[0mmodels\u001b[0m \u001b[1;32mimport\u001b[0m \u001b[0mWord2Vec\u001b[0m\u001b[1;33m\u001b[0m\u001b[1;33m\u001b[0m\u001b[0m\n\u001b[0;32m      2\u001b[0m \u001b[1;32mfrom\u001b[0m \u001b[0mgensim\u001b[0m\u001b[1;33m.\u001b[0m\u001b[0mmodels\u001b[0m \u001b[1;32mimport\u001b[0m \u001b[0mKeyedVectors\u001b[0m\u001b[1;33m\u001b[0m\u001b[1;33m\u001b[0m\u001b[0m\n\u001b[1;32m----> 3\u001b[1;33m \u001b[0mmodel\u001b[0m \u001b[1;33m=\u001b[0m \u001b[0mkeyedvectors\u001b[0m\u001b[1;33m.\u001b[0m\u001b[0mload_word2vec_format\u001b[0m\u001b[1;33m(\u001b[0m\u001b[1;34m'./data/GoogleNews-vectors-negative300.bin.gz'\u001b[0m\u001b[1;33m,\u001b[0m \u001b[0mbinary\u001b[0m\u001b[1;33m=\u001b[0m\u001b[1;32mTrue\u001b[0m\u001b[1;33m)\u001b[0m\u001b[1;33m\u001b[0m\u001b[1;33m\u001b[0m\u001b[0m\n\u001b[0m\u001b[0;32m      4\u001b[0m \u001b[1;33m\u001b[0m\u001b[0m\n",
            "\u001b[1;31mAttributeError\u001b[0m: module 'gensim.models.keyedvectors' has no attribute 'load_word2vec_format'"
          ]
        }
      ],
      "source": [
        "from gensim.models import Word2Vec\n",
        "from gensim.models import KeyedVectors\n",
        "t_model = KeyedVectors.load_word2vec_format('GoogleWord2Vec/GoogleNews-vectors-negative300.bin',binary=True)\n",
        "\n"
      ]
    },
    {
      "cell_type": "code",
      "execution_count": null,
      "metadata": {},
      "outputs": [],
      "source": []
    }
  ],
  "metadata": {
    "kernelspec": {
      "display_name": "Python 3.8.2 64-bit",
      "language": "python",
      "name": "python_defaultSpec_1596417618189"
    },
    "language_info": {
      "codemirror_mode": {
        "name": "ipython",
        "version": 3
      },
      "file_extension": ".py",
      "mimetype": "text/x-python",
      "name": "python",
      "nbconvert_exporter": "python",
      "pygments_lexer": "ipython3",
      "version": "3.7.1"
    }
  },
  "nbformat": 4,
  "nbformat_minor": 0
}